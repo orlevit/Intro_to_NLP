{
 "cells": [
  {
   "cell_type": "code",
   "execution_count": null,
   "metadata": {
    "colab": {
     "base_uri": "https://localhost:8080/"
    },
    "executionInfo": {
     "elapsed": 5584,
     "status": "ok",
     "timestamp": 1668953049950,
     "user": {
      "displayName": "Or Levitas",
      "userId": "03940875326974445177"
     },
     "user_tz": -120
    },
    "id": "2MFSFritUy2_",
    "outputId": "c45e7544-c2fb-4ccb-922c-8feee551951c"
   },
   "outputs": [
    {
     "name": "stdout",
     "output_type": "stream",
     "text": [
      "Looking in indexes: https://pypi.org/simple, https://us-python.pkg.dev/colab-wheels/public/simple/\n",
      "Requirement already satisfied: gensim==4.2.0 in /usr/local/lib/python3.7/dist-packages (4.2.0)\n",
      "Requirement already satisfied: smart-open>=1.8.1 in /usr/local/lib/python3.7/dist-packages (from gensim==4.2.0) (5.2.1)\n",
      "Requirement already satisfied: numpy>=1.17.0 in /usr/local/lib/python3.7/dist-packages (from gensim==4.2.0) (1.21.6)\n",
      "Requirement already satisfied: scipy>=0.18.1 in /usr/local/lib/python3.7/dist-packages (from gensim==4.2.0) (1.7.3)\n",
      "Looking in indexes: https://pypi.org/simple, https://us-python.pkg.dev/colab-wheels/public/simple/\n",
      "Requirement already satisfied: scikit-learn==1.0.2 in /usr/local/lib/python3.7/dist-packages (1.0.2)\n",
      "Requirement already satisfied: numpy>=1.14.6 in /usr/local/lib/python3.7/dist-packages (from scikit-learn==1.0.2) (1.21.6)\n",
      "Requirement already satisfied: scipy>=1.1.0 in /usr/local/lib/python3.7/dist-packages (from scikit-learn==1.0.2) (1.7.3)\n",
      "Requirement already satisfied: threadpoolctl>=2.0.0 in /usr/local/lib/python3.7/dist-packages (from scikit-learn==1.0.2) (3.1.0)\n",
      "Requirement already satisfied: joblib>=0.11 in /usr/local/lib/python3.7/dist-packages (from scikit-learn==1.0.2) (1.2.0)\n"
     ]
    }
   ],
   "source": [
    "!pip install gensim==4.2.0\n",
    "!pip install prettyprint==0.1.5\n",
    "!pip install scikit-learn==1.0.2"
   ]
  },
  {
   "cell_type": "code",
   "execution_count": null,
   "metadata": {
    "id": "sLmrz8AuKsl3"
   },
   "outputs": [],
   "source": [
    "from pprint import pprint\n",
    "import gensim.downloader as api\n",
    "model = api.load(\"word2vec-google-news-300\")"
   ]
  },
  {
   "cell_type": "markdown",
   "metadata": {
    "id": "id7pNECXXDa4"
   },
   "source": [
    "**Definitions:** \n",
    "*   Group 1 - Polysemous words (words with at least two different meanings) such that the top-10 neighbors of each word reflect **both** word meanings\n",
    "*   Group 2 - Polysemous words such that the top-10 neighbors of each word reflect only a **single** meaning."
   ]
  },
  {
   "cell_type": "markdown",
   "metadata": {
    "id": "nlKbrxEyZX4a"
   },
   "source": [
    "# Questions:"
   ]
  },
  {
   "cell_type": "markdown",
   "metadata": {
    "id": "GMLEYm-WYpdv"
   },
   "source": [
    "1) Which three polysemous words belong in the Group 1, and what are their neighbors?\n",
    "\n",
    "Answer:\n",
    "\n",
    "Definitions from [\"merriam-webster online dictionary\"](https://www.merriam-webster.com/dictionary)\n",
    "\n",
    "1)   Mouse - possibilitis:\n",
    "\n",
    "    1. Definition: Any of numerous small rodents.\n",
    "       Neighbors: mice.\n",
    "    2. Definition: A small mobile manual device that controls movement of the cursor.\n",
    "       Neighbors: cordless_laser, keyboard_arrow_keys.\n",
    "\n",
    "2)  Nickel - possibilitis:\n",
    "\n",
    "    1. Definition: To plate with nickel.\n",
    "       Neighbors: nickeling, nickled.\n",
    "    2. Definition: The U.S. 5-cent piece regularly containing 25 percent nickel and 75 percent copper.\n",
    "       Neighbors: dime.\n",
    "\n",
    "3)  Earth - possibilitis:\n",
    "\n",
    "    1. Definition: The fragmental material composing part of the surface of the globe.\n",
    "       Neighbors: Martian_surface.\n",
    "    2. Definition: The planet on which we live that is third in order from the sun.\n",
    "       Neighbors: planet, cosmos.\n"
   ]
  },
  {
   "cell_type": "code",
   "execution_count": null,
   "metadata": {
    "colab": {
     "base_uri": "https://localhost:8080/"
    },
    "executionInfo": {
     "elapsed": 1026,
     "status": "ok",
     "timestamp": 1668960804630,
     "user": {
      "displayName": "Or Levitas",
      "userId": "03940875326974445177"
     },
     "user_tz": -120
    },
    "id": "n6DxWjFAZe1X",
    "outputId": "02bf9dfd-81d8-41d0-dcbb-4e6d3424056f"
   },
   "outputs": [
    {
     "name": "stdout",
     "output_type": "stream",
     "text": [
      "------------- Word number 1: mouse ---------------\n",
      "------------- neighbors ---------------\n",
      "[('Logitech_MX_Revolution', 0.6175230741500854),\n",
      " ('Razer_Mamba', 0.5994570851325989),\n",
      " ('mice', 0.5896884799003601),\n",
      " ('cordless_laser', 0.5652030110359192),\n",
      " ('VX_Nano', 0.5619357824325562),\n",
      " ('Logitech_MX###', 0.5604779124259949),\n",
      " ('keyboard_arrow_keys', 0.5545550584793091),\n",
      " ('Logitech_G9x', 0.5538491606712341),\n",
      " ('NOTE_TO_READERS_Hovering', 0.5520266890525818),\n",
      " ('Razer_Abyssus', 0.5489388108253479)]\n",
      "\n",
      "\n",
      "------------- Word number 2: nickle ---------------\n",
      "------------- neighbors ---------------\n",
      "[('nickel', 0.6695857048034668),\n",
      " ('nickeling', 0.6030744314193726),\n",
      " ('nickled', 0.5831822156906128),\n",
      " ('dime', 0.5059569478034973),\n",
      " ('nickeled', 0.49643686413764954),\n",
      " ('diming', 0.469696968793869),\n",
      " ('funeral_Rentzer', 0.4337095320224762),\n",
      " ('dimed', 0.4335276186466217),\n",
      " ('DeShea_Townsend', 0.42995506525039673),\n",
      " ('OLB', 0.42360377311706543)]\n",
      "\n",
      "\n",
      "------------- Word number 3: earth ---------------\n",
      "------------- neighbors ---------------\n",
      "[('Earth', 0.7105128169059753),\n",
      " ('planet', 0.6802847981452942),\n",
      " ('meek_inheriting', 0.5625147223472595),\n",
      " ('earths', 0.531245768070221),\n",
      " ('cosmos', 0.5272278785705566),\n",
      " ('mankind', 0.5163297653198242),\n",
      " ('mega_vertebrate', 0.5102849006652832),\n",
      " ('shepherded_Tolkien_Middle', 0.5001775026321411),\n",
      " ('ERDAS_creates', 0.4907360374927521),\n",
      " ('Martian_surface', 0.480654239654541)]\n",
      "\n",
      "\n"
     ]
    }
   ],
   "source": [
    "words = [\"mouse\", \"nickle\", \"earth\"]\n",
    "for ii, word in enumerate(words, 1):\n",
    "  print(f\"------------- Word number {ii}: {word} ---------------\")\n",
    "  print(f\"------------- neighbors ---------------\")\n",
    "  pprint(model.most_similar(word, topn = 10))\n",
    "  print('\\n')"
   ]
  },
  {
   "cell_type": "markdown",
   "metadata": {
    "id": "3c1yUwFOY15C"
   },
   "source": [
    "2) Which three polysemous words belong in the Group 2, what are the possible\n",
    "senses for each word, and which of the senses was reflected in the top-10 neighbors?\n",
    "\n",
    "Answer:\n",
    "Definitions from [\"merriam-webster online dictionary\"](https://www.merriam-webster.com/dictionary)\n",
    "\n",
    "1)   Light - possibilitis:\n",
    "\n",
    "    1. Definition: The sensation aroused by stimulation of the visual receptors.\n",
    "       Neighbors: yellowish_glow, illumination,sensitive_photoreceptor_cells, illuminate\n",
    "    2. Definition: To set and leave temporarily.\n",
    "\n",
    "2)   Park - possibilitis:\n",
    "\n",
    "    1. Definition: An enclosed piece of ground stocked with game and held by royal prescription or grant.\n",
    "       Neighbors: skate_park, campground, skateboard_park.\n",
    "    2. Definition: To bring (a vehicle) to a stop and keep standing at the edge of a public way.\n",
    "\n",
    "3)   Ceiling - possibilitis:\n",
    "\n",
    "    1. Definition: The overhead inside lining of a room.\n",
    "       Neighbors: acoustical_tile, vaulted_ceiling, domed_ceiling, ceiling_tiles, decorative_lightings.\n",
    "    2. Definition: An upper usually prescribed limit.\n",
    "\n",
    "    \n",
    "\n",
    "\n"
   ]
  },
  {
   "cell_type": "code",
   "execution_count": null,
   "metadata": {
    "colab": {
     "base_uri": "https://localhost:8080/"
    },
    "executionInfo": {
     "elapsed": 1617,
     "status": "ok",
     "timestamp": 1668960771529,
     "user": {
      "displayName": "Or Levitas",
      "userId": "03940875326974445177"
     },
     "user_tz": -120
    },
    "id": "uyCUD3P4btNW",
    "outputId": "fb95a1bf-b493-458e-be7e-7895252ee00e"
   },
   "outputs": [
    {
     "name": "stdout",
     "output_type": "stream",
     "text": [
      "------------- Word number 1: light ---------------\n",
      "------------- neighbors ---------------\n",
      "[('lights', 0.550593912601471),\n",
      " ('yellowish_glow', 0.5484952926635742),\n",
      " ('illumination', 0.5342711806297302),\n",
      " ('Scaffold_Towers_DIY', 0.517299473285675),\n",
      " ('injuries_Fuellhardt', 0.5142718553543091),\n",
      " ('workers_differently_Corenthal', 0.5023258924484253),\n",
      " ('Light', 0.4914783239364624),\n",
      " ('glow', 0.49023911356925964),\n",
      " ('sensitive_photoreceptor_cells', 0.4902072548866272),\n",
      " ('illuminate', 0.49018022418022156)]\n",
      "\n",
      "\n",
      "------------- Word number 2: park ---------------\n",
      "------------- neighbors ---------------\n",
      "[('parks', 0.7697824835777283),\n",
      " ('Park', 0.613426685333252),\n",
      " ('superintendent_Dave_Uberuaga', 0.5954588055610657),\n",
      " ('skate_park', 0.5911567211151123),\n",
      " ('parkland', 0.5799823999404907),\n",
      " ('Kohler_Andrae', 0.5719486474990845),\n",
      " ('campground', 0.5696098804473877),\n",
      " ('Taraji_Henson_knocked', 0.5658068060874939),\n",
      " ('Castaway_Cove', 0.5577318668365479),\n",
      " ('skateboard_park', 0.5547470450401306)]\n",
      "\n",
      "\n",
      "------------- Word number 3: ceiling ---------------\n",
      "------------- neighbors ---------------\n",
      "[('ceilings', 0.7185468077659607),\n",
      " ('acoustical_tile', 0.5621055364608765),\n",
      " ('Ceiling', 0.55384361743927),\n",
      " ('vaulted_ceiling', 0.5538184642791748),\n",
      " ('celing', 0.5435565114021301),\n",
      " ('skylight', 0.5402606725692749),\n",
      " ('domed_ceiling', 0.5339036583900452),\n",
      " ('ceiling_joist', 0.518120288848877),\n",
      " ('ceiling_tiles', 0.5143863558769226),\n",
      " ('decorative_lightings', 0.5120113492012024)]\n",
      "\n",
      "\n"
     ]
    }
   ],
   "source": [
    "words = [\"light\", \"park\", \"ceiling\"]\n",
    "for ii, word in enumerate(words, 1):\n",
    "  print(f\"------------- Word number {ii}: {word} ---------------\")\n",
    "  print(f\"------------- neighbors ---------------\")\n",
    "  pprint(model.most_similar(word, topn = 10))\n",
    "  print('\\n')"
   ]
  },
  {
   "cell_type": "markdown",
   "metadata": {
    "id": "rwNcXv-9Y7SQ"
   },
   "source": [
    "3) Can you explain why the Group 2 words neighbors reflect only one sense?\n",
    "\n",
    "Answer:\n",
    "\n",
    "A possible explanation is that for the second word sense, there is greater variation of the neighbouring words. Meaning, they can fit to a multiple contexts so to get many occurrences of specific neighboring wordform with the same query word is not common."
   ]
  },
  {
   "cell_type": "code",
   "execution_count": null,
   "metadata": {
    "id": "SqBAA2ViUOmQ"
   },
   "outputs": [],
   "source": []
  }
 ],
 "metadata": {
  "colab": {
   "authorship_tag": "ABX9TyM5/+CTOwPD8xdRby0HI/m4",
   "provenance": []
  },
  "kernelspec": {
   "display_name": "Python 3",
   "language": "python",
   "name": "python3"
  },
  "language_info": {
   "codemirror_mode": {
    "name": "ipython",
    "version": 3
   },
   "file_extension": ".py",
   "mimetype": "text/x-python",
   "name": "python",
   "nbconvert_exporter": "python",
   "pygments_lexer": "ipython3",
   "version": "3.5.2"
  }
 },
 "nbformat": 4,
 "nbformat_minor": 1
}
