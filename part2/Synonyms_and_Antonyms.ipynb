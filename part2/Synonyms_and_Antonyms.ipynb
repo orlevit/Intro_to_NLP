{
 "cells": [
  {
   "cell_type": "code",
   "execution_count": null,
   "metadata": {
    "id": "uQWmm1hr3DD5"
   },
   "outputs": [],
   "source": [
    "!pip install gensim==4.2.0\n",
    "!pip install prettyprint==0.1.5\n",
    "!pip install scikit-learn==1.0.2\n",
    "\n",
    "from pprint import pprint\n",
    "import gensim.downloader as api\n",
    "model = api.load(\"word2vec-google-news-300\")"
   ]
  },
  {
   "cell_type": "markdown",
   "metadata": {
    "id": "OIynhWPBQDKp"
   },
   "source": [
    "Find a triplet of words (w1, w2, w3) such that all of the following conditions hold:\n",
    "\n",
    "1.   w1 and w2 are synonyms or almost synonyms.\n",
    "2.   w1 and w3 are antonyms.\n",
    "3.   sim(w1,w2) < sim(w1, w3)\n",
    "\n",
    "\n",
    "\n",
    "sim should be the cosine similarity measure.\n",
    "1. Write your triplet.\n",
    "2. Can you explain this behavior in which the antonyms are more similar than the\n",
    "synonyms?\n"
   ]
  },
  {
   "cell_type": "code",
   "execution_count": 24,
   "metadata": {
    "executionInfo": {
     "elapsed": 591,
     "status": "ok",
     "timestamp": 1669035163124,
     "user": {
      "displayName": "Or Levitas",
      "userId": "03940875326974445177"
     },
     "user_tz": -120
    },
    "id": "VNifpGZTN1Bt"
   },
   "outputs": [],
   "source": [
    "w1, w2, w3 = \"warm\", \"warmth\", \"chilly\"\n",
    "sim_w1_w2 = model.similarity(w1,w2)\n",
    "sim_w1_w3 = model.similarity(w1,w3)"
   ]
  },
  {
   "cell_type": "code",
   "execution_count": 25,
   "metadata": {
    "colab": {
     "base_uri": "https://localhost:8080/"
    },
    "executionInfo": {
     "elapsed": 8,
     "status": "ok",
     "timestamp": 1669035163897,
     "user": {
      "displayName": "Or Levitas",
      "userId": "03940875326974445177"
     },
     "user_tz": -120
    },
    "id": "hja0D41hPTSs",
    "outputId": "a2de06e7-1d87-4c89-e28c-4f9fa2652ada"
   },
   "outputs": [
    {
     "name": "stdout",
     "output_type": "stream",
     "text": [
      "sim(w1,w2)=0.6418775916099548 < sim(w1,w3)=0.6639567613601685\n"
     ]
    }
   ],
   "source": [
    "print(f'sim(w1,w2)={sim_w1_w2} < sim(w1,w3)={sim_w1_w3}')"
   ]
  },
  {
   "cell_type": "markdown",
   "metadata": {
    "id": "HgMzcihAQQWR"
   },
   "source": [
    "2) Because the embeddings are taking by context, synonyms and antonyms exists in a similar context, therefore they are close close to each other.\n",
    "    E.g. in the sentence \"Today the weather is \\_\\_\\_\" , the word: \"Warm\" and it's antonym \"Chilly\" is equally possible.  Furthermore, the synonym of \"Warm\" - \"Warmth\" is not appropriate in this context."
   ]
  },
  {
   "cell_type": "code",
   "execution_count": null,
   "metadata": {
    "id": "DNmhIIRlTIwX"
   },
   "outputs": [],
   "source": []
  }
 ],
 "metadata": {
  "colab": {
   "authorship_tag": "ABX9TyNVUByaH2xQA9lg3r2Klqiq",
   "provenance": []
  },
  "kernelspec": {
   "display_name": "Python 3",
   "language": "python",
   "name": "python3"
  },
  "language_info": {
   "codemirror_mode": {
    "name": "ipython",
    "version": 3
   },
   "file_extension": ".py",
   "mimetype": "text/x-python",
   "name": "python",
   "nbconvert_exporter": "python",
   "pygments_lexer": "ipython3",
   "version": "3.5.2"
  }
 },
 "nbformat": 4,
 "nbformat_minor": 1
}
