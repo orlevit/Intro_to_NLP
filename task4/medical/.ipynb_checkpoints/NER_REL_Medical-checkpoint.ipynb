{
 "cells": [
  {
   "cell_type": "markdown",
   "metadata": {
    "id": "xwi9mzFPPDv7"
   },
   "source": [
    "# Healthcare Data Entities Identification\n",
    "\n"
   ]
  },
  {
   "cell_type": "markdown",
   "metadata": {
    "id": "3wwzoMzrUDtr"
   },
   "source": [
    "## Workspace set up: Import and Install useful packages."
   ]
  },
  {
   "cell_type": "markdown",
   "metadata": {
    "id": "H4BNoMOe5w2j"
   },
   "source": [
    "- mount the drive"
   ]
  },
  {
   "cell_type": "code",
   "execution_count": 3,
   "metadata": {
    "colab": {
     "base_uri": "https://localhost:8080/"
    },
    "executionInfo": {
     "elapsed": 6413,
     "status": "ok",
     "timestamp": 1674238515151,
     "user": {
      "displayName": "Or Levitas",
      "userId": "03940875326974445177"
     },
     "user_tz": -120
    },
    "id": "T4hxafMCE1nn",
    "outputId": "924bd32e-4919-4195-b913-77cbdcc48fc9"
   },
   "outputs": [],
   "source": [
    "# Installing and importing relevant libraries\n",
    "import spacy\n",
    "import sklearn_crfsuite\n",
    "from sklearn_crfsuite import metrics\n",
    "import pandas as pd\n",
    "import pathlib\n",
    "import os\n",
    "\n",
    "# load the model\n",
    "model = spacy.load(\"en_core_web_sm\")"
   ]
  },
  {
   "cell_type": "markdown",
   "metadata": {
    "id": "X3aJ1uUN9itt"
   },
   "source": [
    "# Dataset prepration and overview\n"
   ]
  },
  {
   "cell_type": "code",
   "execution_count": 4,
   "metadata": {
    "executionInfo": {
     "elapsed": 27,
     "status": "ok",
     "timestamp": 1674238515152,
     "user": {
      "displayName": "Or Levitas",
      "userId": "03940875326974445177"
     },
     "user_tz": -120
    },
    "id": "bz6czVx9R6WJ"
   },
   "outputs": [],
   "source": [
    "with open('train_sent', 'r') as train_sent_file:\n",
    "  train_words = train_sent_file.readlines()\n",
    "\n",
    "with open('train_label', 'r') as train_labels_file:\n",
    "  train_labels_by_word = train_labels_file.readlines()\n",
    "\n",
    "with open('test_sent', 'r') as test_sent_file:\n",
    "  test_words = test_sent_file.readlines()\n",
    "\n",
    "with open('test_label', 'r') as test_labels_file:\n",
    "  test_labels_by_word = test_labels_file.readlines()"
   ]
  },
  {
   "cell_type": "code",
   "execution_count": 5,
   "metadata": {
    "executionInfo": {
     "elapsed": 24,
     "status": "ok",
     "timestamp": 1674238515152,
     "user": {
      "displayName": "Or Levitas",
      "userId": "03940875326974445177"
     },
     "user_tz": -120
    },
    "id": "Af1c_URKw2tB"
   },
   "outputs": [],
   "source": [
    "def convert_to_sentences(dataset):\n",
    "    sent_list = []\n",
    "    sent = \"\"\n",
    "    for entity in dataset:\n",
    "        if entity != '\\n':\n",
    "            sent = sent + entity[:-1] + \" \"       # Adding word/label to current sentence / sequence of labels \n",
    "        else: \n",
    "            sent_list.append(sent[:-1])           # Getting rid of the space added after the last entity.\n",
    "            sent = \"\"\n",
    "    return sent_list"
   ]
  },
  {
   "cell_type": "code",
   "execution_count": 6,
   "metadata": {
    "executionInfo": {
     "elapsed": 23,
     "status": "ok",
     "timestamp": 1674238515152,
     "user": {
      "displayName": "Or Levitas",
      "userId": "03940875326974445177"
     },
     "user_tz": -120
    },
    "id": "NAuhPDDtwCL7"
   },
   "outputs": [],
   "source": [
    "train_sentences = convert_to_sentences(train_words)\n",
    "train_labels = convert_to_sentences(train_labels_by_word)\n",
    "test_sentences = convert_to_sentences(test_words)\n",
    "test_labels = convert_to_sentences(test_labels_by_word)"
   ]
  },
  {
   "cell_type": "code",
   "execution_count": 8,
   "metadata": {
    "colab": {
     "base_uri": "https://localhost:8080/"
    },
    "executionInfo": {
     "elapsed": 23,
     "status": "ok",
     "timestamp": 1674238515153,
     "user": {
      "displayName": "Or Levitas",
      "userId": "03940875326974445177"
     },
     "user_tz": -120
    },
    "id": "RNUB-6RxIfxo",
    "outputId": "46b06772-9660-4533-80ae-10755aa024ae"
   },
   "outputs": [
    {
     "name": "stdout",
     "output_type": "stream",
     "text": [
      "-------------------- Datasets statistics: --------------------\n",
      "\n",
      "------------- Train dataset -------------\n",
      "Number of 'O' in the labels: 39683\n",
      "Number of total labels: 45902\n",
      "NER tokens: 0.135%, 'O' tokens: 0.865%\n",
      "Number of sentences: 2599\n",
      "\n",
      "------------- Test dataset -------------\n",
      "Number of 'O' in the labels: 16127\n",
      "Number of total labels: 18618\n",
      "NER tokens: 0.134%, 'O' tokens: 0.866%\n",
      "Number of sentences: 1056\n"
     ]
    }
   ],
   "source": [
    "train_count_total = [sent_lbl for sentence_labels in train_labels for sent_lbl in sentence_labels if sent_lbl != ' ']\n",
    "train_count_o = [sent_lbl for sentence_labels in train_labels for sent_lbl in sentence_labels if sent_lbl != ' ' and sent_lbl == 'O']\n",
    "O_percent = round(len(train_count_o)/len(train_count_total),3)\n",
    "ner_percent = 1 - O_percent\n",
    "print('-------------------- Datasets statistics: --------------------\\n')\n",
    "\n",
    "print('------------- Train dataset -------------')\n",
    "print(\"Number of 'O' in the labels: {}\".format(len(train_count_o)))\n",
    "print(\"Number of total labels: {}\".format(len(train_count_total)))\n",
    "print(\"NER tokens: {}%, 'O' tokens: {}%\".format(ner_percent, O_percent))\n",
    "print(\"Number of sentences: {}\".format(len(train_sentences)))\n",
    "\n",
    "\n",
    "test_count_total = [sent_lbl for sentence_labels in test_labels for sent_lbl in sentence_labels if sent_lbl != ' ']\n",
    "test_count_o = [sent_lbl for sentence_labels in test_labels for sent_lbl in sentence_labels if sent_lbl != ' ' and sent_lbl == 'O']\n",
    "O_percent = round(len(test_count_o)/len(test_count_total),3)\n",
    "ner_percent = 1 - O_percent\n",
    "print('\\n------------- Test dataset -------------')\n",
    "print(\"Number of 'O' in the labels: {}\".format(len(test_count_o)))\n",
    "print(\"Number of total labels: {}\".format(len(test_count_total)))\n",
    "print(\"NER tokens: {}%, 'O' tokens: {}%\".format(ner_percent, O_percent))\n",
    "print(\"Number of sentences: {}\".format(len(test_sentences)))"
   ]
  },
  {
   "cell_type": "markdown",
   "metadata": {
    "id": "r9Hy2tECbd9a"
   },
   "source": [
    "# Concept Identification\n",
    "\n",
    "\n",
    "\n"
   ]
  },
  {
   "cell_type": "markdown",
   "metadata": {
    "id": "s7EB4hjX9Gf9"
   },
   "source": [
    "- Extract those tokens which have NOUN or PROPN as their PoS tag and find their frequency"
   ]
  },
  {
   "cell_type": "code",
   "execution_count": 9,
   "metadata": {
    "colab": {
     "base_uri": "https://localhost:8080/"
    },
    "executionInfo": {
     "elapsed": 19,
     "status": "ok",
     "timestamp": 1674238515153,
     "user": {
      "displayName": "Or Levitas",
      "userId": "03940875326974445177"
     },
     "user_tz": -120
    },
    "id": "7w8nJSPlZqjw",
    "outputId": "99f504b7-6f49-4909-d770-c5491b20be09"
   },
   "outputs": [
    {
     "name": "stdout",
     "output_type": "stream",
     "text": [
      "Number of sentences in combined dataset (training + test): 3655\n"
     ]
    }
   ],
   "source": [
    "# Creating a combined dataset from training and test sentences, since this is an Exploratory analysis.\n",
    "combined = train_sentences + test_sentences\n",
    "print(\"Number of sentences in combined dataset (training + test): {}\".format(len(combined)))"
   ]
  },
  {
   "cell_type": "code",
   "execution_count": 11,
   "metadata": {
    "colab": {
     "base_uri": "https://localhost:8080/"
    },
    "executionInfo": {
     "elapsed": 37126,
     "status": "ok",
     "timestamp": 1674238552266,
     "user": {
      "displayName": "Or Levitas",
      "userId": "03940875326974445177"
     },
     "user_tz": -120
    },
    "id": "FRiUmCgLD6MD",
    "outputId": "e7a2c3b6-9a38-459a-9dce-7192697c8de8"
   },
   "outputs": [
    {
     "name": "stdout",
     "output_type": "stream",
     "text": [
      "No. of tokens in combined dataset with PoS tag of 'NOUN' or 'PROPN': 24292\n"
     ]
    }
   ],
   "source": [
    "# Creating a list of tokens which have PoS tag of 'NOUN' or 'PROPN'\n",
    "noun_propn = []         # Initiating list for nouns and proper nouns\n",
    "pos_tag = []            # initiating list for corresponding PoS tags.\n",
    "for sent in combined:\n",
    "    for token in model(sent):\n",
    "        if token.pos_ in ['NOUN', 'PROPN']:\n",
    "           noun_propn.append(token.text)\n",
    "           pos_tag.append(token.pos_)\n",
    "print(\"No. of tokens in combined dataset with PoS tag of 'NOUN' or 'PROPN': {}\".format(len(noun_propn)))"
   ]
  },
  {
   "cell_type": "code",
   "execution_count": 12,
   "metadata": {
    "colab": {
     "base_uri": "https://localhost:8080/"
    },
    "executionInfo": {
     "elapsed": 42,
     "status": "ok",
     "timestamp": 1674238552267,
     "user": {
      "displayName": "Or Levitas",
      "userId": "03940875326974445177"
     },
     "user_tz": -120
    },
    "id": "DhDY4jjoawTa",
    "outputId": "cd65cfa2-32d7-49ed-a058-0adae280f774"
   },
   "outputs": [
    {
     "name": "stdout",
     "output_type": "stream",
     "text": [
      "Top 25 comon tokens with PoS tag of 'NOUN' or 'PROPN' \n",
      "\n",
      "patients        492\n",
      "treatment       281\n",
      "%               247\n",
      "cancer          200\n",
      "therapy         175\n",
      "study           152\n",
      "disease         141\n",
      "cell            140\n",
      "lung            116\n",
      "group            94\n",
      "chemotherapy     88\n",
      "gene             87\n",
      "effects          85\n",
      "results          78\n",
      "women            77\n",
      "use              74\n",
      "risk             71\n",
      "surgery          71\n",
      "cases            71\n",
      "analysis         70\n",
      "rate             67\n",
      "response         66\n",
      "survival         65\n",
      "children         64\n",
      "effect           63\n",
      "Name: NOUN_PROPN, dtype: int64\n"
     ]
    }
   ],
   "source": [
    "# Print the top 25 most common tokens with NOUN or PROPN PoS tags\n",
    "noun_pos = pd.DataFrame({\"NOUN_PROPN\":noun_propn,\"POS_tag\":pos_tag})\n",
    "print(\"Top 25 comon tokens with PoS tag of 'NOUN' or 'PROPN' \\n\")\n",
    "print(noun_pos[\"NOUN_PROPN\"].value_counts().head(25))"
   ]
  },
  {
   "cell_type": "markdown",
   "metadata": {
    "id": "bnfAlKgA5fd4"
   },
   "source": [
    "# Defining features for CRF\n",
    "\n",
    "\n",
    "\n"
   ]
  },
  {
   "cell_type": "code",
   "execution_count": 13,
   "metadata": {
    "colab": {
     "base_uri": "https://localhost:8080/"
    },
    "executionInfo": {
     "elapsed": 35,
     "status": "ok",
     "timestamp": 1674238552267,
     "user": {
      "displayName": "Or Levitas",
      "userId": "03940875326974445177"
     },
     "user_tz": -120
    },
    "id": "PyIZ4M_5HOOh",
    "outputId": "59f83ef0-edf3-4470-be04-a170a0e99e08"
   },
   "outputs": [
    {
     "name": "stdout",
     "output_type": "stream",
     "text": [
      "The total cesarean rate was 14.4 % ( 344 of 2395 ) , and the primary rate was 11.4 % ( 244 of 2144 )\n",
      "\n",
      "PoS tag of word in isolation\n",
      "Word: cesarean -- PROPN \n",
      "\n",
      "PoS tag of all words in sentence with context intact.\n",
      "The -- DET\n",
      "total -- ADJ\n",
      "cesarean -- ADJ\n",
      "rate -- NOUN\n",
      "was -- AUX\n",
      "14.4 -- NUM\n",
      "% -- NOUN\n",
      "( -- PUNCT\n",
      "344 -- NUM\n",
      "of -- ADP\n",
      "2395 -- NUM\n",
      ") -- PUNCT\n",
      ", -- PUNCT\n",
      "and -- CCONJ\n",
      "the -- DET\n",
      "primary -- ADJ\n",
      "rate -- NOUN\n",
      "was -- AUX\n",
      "11.4 -- NUM\n",
      "% -- NOUN\n",
      "( -- PUNCT\n",
      "244 -- NUM\n",
      "of -- ADP\n",
      "2144 -- NUM\n",
      ") -- PUNCT\n",
      "\n",
      "Result of modified workflow to obtain PoS tag of word at a specific position while keeping context within sentence in-tact.\n",
      "Word: cesarean POSTAG: ADJ\n"
     ]
    }
   ],
   "source": [
    "# Analysis of PoS tags - Independent assignment for words vs Contextual assignment in a sentence.\n",
    "sentence = train_sentences[1]   \n",
    "sent_list = sentence.split()      # Splitting the sentence into its constituent words.\n",
    "position = 2                      # Choosing position of word within sentence. Index starts at 0.\n",
    "\n",
    "word = sent_list[position]        # Extracting word for PoS tag analysis.\n",
    "\n",
    "print(sentence)\n",
    "\n",
    "# Independent assignment of PoS tag (No contextual info)\n",
    "print(\"\\nPoS tag of word in isolation\\nWord:\",word,\"--\",model(word)[0].pos_,\"\\n\")\n",
    "\n",
    "# Contextual assignment of PoS tag based on other words in the sentence.\n",
    "print(\"PoS tag of all words in sentence with context intact.\")\n",
    "for token in model(sentence):\n",
    "    print(token.text, \"--\", token.pos_)\n",
    "\n",
    "# Modified workflow to obtain PoS tag of specific word in question while keeping sentence context intact.\n",
    "print(\"\\nResult of modified workflow to obtain PoS tag of word at a specific position while keeping context within sentence in-tact.\")\n",
    "cnt = 0                           # Count of the word position within sentence.\n",
    "for token in model(sentence):\n",
    "      postag = token.pos_\n",
    "      if (token.text == word) and (cnt == position):\n",
    "          break\n",
    "      cnt += 1\n",
    "print(\"Word:\", word,\"POSTAG:\",postag)\n"
   ]
  },
  {
   "cell_type": "code",
   "execution_count": 14,
   "metadata": {
    "executionInfo": {
     "elapsed": 29,
     "status": "ok",
     "timestamp": 1674238552267,
     "user": {
      "displayName": "Or Levitas",
      "userId": "03940875326974445177"
     },
     "user_tz": -120
    },
    "id": "-V9g106vdM2S"
   },
   "outputs": [],
   "source": [
    "# Function to obtain contextual PoS tagger.\n",
    "def contextual_pos_tagger(sent_list,position):\n",
    "   \n",
    "\n",
    "    sentence = \" \".join(sent_list)          # Sentence needs to be in string format to process it with spacy model. List of words won't work.\n",
    "    posit = 0                               # Initialising variable to record position of word in joined sentence to compare with the position of the word under considertion.\n",
    "    for token in model(sentence):\n",
    "        postag = token.pos_\n",
    "        if (token.text == word) and (posit == position):\n",
    "            break\n",
    "        posit += 1\n",
    "    return postag"
   ]
  },
  {
   "cell_type": "code",
   "execution_count": null,
   "metadata": {
    "executionInfo": {
     "elapsed": 30,
     "status": "ok",
     "timestamp": 1674238552268,
     "user": {
      "displayName": "Or Levitas",
      "userId": "03940875326974445177"
     },
     "user_tz": -120
    },
    "id": "aS6P1Gog3JMf"
   },
   "outputs": [],
   "source": [
    "# Previous word features\n",
    "def getFeaturesForOneWord(sent_list, position):\n",
    "  word = sent_list[position]\n",
    "    \n",
    "  # Obtaining features for current word\n",
    "  features = [\n",
    "    'word.lower=' + word.lower(),                                   # serves as word id\n",
    "    'word.postag=' + contextual_pos_tagger(sent_list, position),    # PoS tag of current word\n",
    "    'word[-3:]=' + word[-3:],                                       # last three characters\n",
    "    'word[-2:]=' + word[-2:],                                       # last two characters\n",
    "    'word.isupper=%s' % word.isupper(),                             # is the word in all uppercase\n",
    "    'word.isdigit=%s' % word.isdigit(),                             # is the word a number\n",
    "    'words.startsWithCapital=%s' % word[0].isupper()                # is the word starting with a capital letter\n",
    "  ]\n",
    " \n",
    "  if(position > 0):\n",
    "    prev_word = sent_list[position-1]\n",
    "    features.extend([\n",
    "    'prev_word.lower=' + prev_word.lower(),                               # previous word\n",
    "    'prev_word.postag=' + contextual_pos_tagger(sent_list, position - 1), # PoS tag of previous word\n",
    "    'prev_word.isupper=%s' % prev_word.isupper(),                         # is the previous word in all uppercase\n",
    "    'prev_word.isdigit=%s' % prev_word.isdigit(),                         # is the previous word a number\n",
    "    'prev_words.startsWithCapital=%s' % prev_word[0].isupper()            # is the previous word starting with a capital letter\n",
    "  ])\n",
    "  else:\n",
    "    features.append('BEG')                                                # feature to track begin of sentence \n",
    " \n",
    "  if(position == len(sent_list)-1):\n",
    "    features.append('END')                                                # feature to track end of sentence\n",
    " \n",
    "  return features"
   ]
  },
  {
   "cell_type": "code",
   "execution_count": 15,
   "metadata": {
    "executionInfo": {
     "elapsed": 28,
     "status": "ok",
     "timestamp": 1674238552268,
     "user": {
      "displayName": "Or Levitas",
      "userId": "03940875326974445177"
     },
     "user_tz": -120
    },
    "id": "2_XVkVVVKc6g"
   },
   "outputs": [],
   "source": [
    "# Previous and next word features\n",
    "def getFeaturesForOneWord(sent_list, position):\n",
    "  word = sent_list[position]\n",
    "    \n",
    "  # Obtaining features for current word\n",
    "  features = [\n",
    "    'word.lower=' + word.lower(),                                   # serves as word id\n",
    "    'word.postag=' + contextual_pos_tagger(sent_list, position),    # PoS tag of current word\n",
    "    'word[-3:]=' + word[-3:],                                       # last three characters\n",
    "    'word[-2:]=' + word[-2:],                                       # last two characters\n",
    "    'word.isupper=%s' % word.isupper(),                             # is the word in all uppercase\n",
    "    'word.isdigit=%s' % word.isdigit(),                             # is the word a number\n",
    "    'words.startsWithCapital=%s' % word[0].isupper()                # is the word starting with a capital letter\n",
    "  ]\n",
    " \n",
    "  if(position > 0):\n",
    "    prev_word = sent_list[position-1]\n",
    "    features.extend([\n",
    "    'prev_word.lower=' + prev_word.lower(),                               # previous word\n",
    "    'prev_word.postag=' + contextual_pos_tagger(sent_list, position - 1), # PoS tag of previous word\n",
    "    'prev_word.isupper=%s' % prev_word.isupper(),                         # is the previous word in all uppercase\n",
    "    'prev_word.isdigit=%s' % prev_word.isdigit(),                         # is the previous word a number\n",
    "    'prev_words.startsWithCapital=%s' % prev_word[0].isupper()            # is the previous word starting with a capital letter\n",
    "  ])\n",
    "  else:\n",
    "    features.append('BEG')                                                # feature to track begin of sentence \n",
    " \n",
    "  if(position < len(sent_list) - 1):\n",
    "    next_word = sent_list[position+1]\n",
    "    features.extend([\n",
    "    'next_word.lower=' + next_word.lower(),                               # Next word\n",
    "    'next_word.postag=' + contextual_pos_tagger(sent_list, position + 1), # PoS tag of previous word\n",
    "    'next_word.isupper=%s' % next_word.isupper(),                         # is the next word in all uppercase\n",
    "    'next_word.isdigit=%s' % next_word.isdigit(),                         # is the next word a number\n",
    "    'next_word.startsWithCapital=%s' % next_word[0].isupper()            # is the next word starting with a capital letter\n",
    "  ])\n",
    "  else:\n",
    "    features.append('END')                                                # feature to track end of sentence\n",
    "\n",
    "  return features"
   ]
  },
  {
   "cell_type": "markdown",
   "metadata": {
    "id": "haBEOsZGKhb9"
   },
   "source": [
    "# Getting the features"
   ]
  },
  {
   "cell_type": "code",
   "execution_count": 16,
   "metadata": {
    "executionInfo": {
     "elapsed": 28,
     "status": "ok",
     "timestamp": 1674238552268,
     "user": {
      "displayName": "Or Levitas",
      "userId": "03940875326974445177"
     },
     "user_tz": -120
    },
    "id": "emBIm5uK7vtK"
   },
   "outputs": [],
   "source": [
    "# Write a code to get features for a sentence.\n",
    "def getFeaturesForOneSentence(sentence):\n",
    "  sentence_list = sentence.split()\n",
    "  return [getFeaturesForOneWord(sentence_list, position) for position in range(len(sentence_list))]"
   ]
  },
  {
   "cell_type": "code",
   "execution_count": 17,
   "metadata": {
    "colab": {
     "base_uri": "https://localhost:8080/"
    },
    "executionInfo": {
     "elapsed": 771,
     "status": "ok",
     "timestamp": 1674238553012,
     "user": {
      "displayName": "Or Levitas",
      "userId": "03940875326974445177"
     },
     "user_tz": -120
    },
    "id": "7oQEVkxZVsw8",
    "outputId": "a9a12399-ec20-4d78-ec4b-eda4bbd160c1"
   },
   "outputs": [
    {
     "name": "stdout",
     "output_type": "stream",
     "text": [
      "Example sentence: \"Cesarean rates at tertiary care hospitals should be compared with rates at community hospitals only after correcting for dissimilar patient groups or gestational age\"\n",
      "\n",
      "Total features in the sentence: 24\n",
      "Example of features for the word \"rates\":\n"
     ]
    },
    {
     "data": {
      "text/plain": [
       "['word.lower=rates',\n",
       " 'word.postag=NOUN',\n",
       " 'word[-3:]=tes',\n",
       " 'word[-2:]=es',\n",
       " 'word.isupper=False',\n",
       " 'word.isdigit=False',\n",
       " 'words.startsWithCapital=False',\n",
       " 'prev_word.lower=cesarean',\n",
       " 'prev_word.postag=NOUN',\n",
       " 'prev_word.isupper=False',\n",
       " 'prev_word.isdigit=False',\n",
       " 'prev_words.startsWithCapital=True',\n",
       " 'next_word.lower=at',\n",
       " 'next_word.postag=NOUN',\n",
       " 'next_word.isupper=False',\n",
       " 'next_word.isdigit=False',\n",
       " 'next_word.startsWithCapital=False']"
      ]
     },
     "execution_count": 17,
     "metadata": {},
     "output_type": "execute_result"
    }
   ],
   "source": [
    "# Checking feature extraction\n",
    "example_sentence = train_sentences[5]\n",
    "print(f'Example sentence: \"{example_sentence}\"\\n')\n",
    "\n",
    "features = getFeaturesForOneSentence(example_sentence)\n",
    "print('Total features in the sentence:', len(features))\n",
    "print('Example of features for the word \"rates\":')\n",
    "features[1]"
   ]
  },
  {
   "cell_type": "markdown",
   "metadata": {
    "id": "A7fs-B8CNein"
   },
   "source": [
    "## Write a code/function to get the labels of a sentence"
   ]
  },
  {
   "cell_type": "code",
   "execution_count": 18,
   "metadata": {
    "executionInfo": {
     "elapsed": 9,
     "status": "ok",
     "timestamp": 1674238553012,
     "user": {
      "displayName": "Or Levitas",
      "userId": "03940875326974445177"
     },
     "user_tz": -120
    },
    "id": "tiA-A_ws8I8-"
   },
   "outputs": [],
   "source": [
    "# Write a code to get the labels for a sentence.\n",
    "def getLabelsInListForOneSentence(labels):\n",
    "  return labels.split()"
   ]
  },
  {
   "cell_type": "markdown",
   "metadata": {
    "id": "QG6hYY6rNjS8"
   },
   "source": [
    "# Define input and target variables\n"
   ]
  },
  {
   "cell_type": "code",
   "execution_count": 20,
   "metadata": {
    "colab": {
     "base_uri": "https://localhost:8080/",
     "height": 223
    },
    "executionInfo": {
     "elapsed": 17,
     "status": "error",
     "timestamp": 1674241691286,
     "user": {
      "displayName": "Or Levitas",
      "userId": "03940875326974445177"
     },
     "user_tz": -120
    },
    "id": "8Nuz-MjW8LWm",
    "outputId": "de749f77-6398-4651-c229-79da3d29c17e"
   },
   "outputs": [],
   "source": [
    "X_train = [getFeaturesForOneSentence(sentence) for sentence in train_sentences]\n",
    "X_test = [getFeaturesForOneSentence(sentence) for sentence in test_sentences]"
   ]
  },
  {
   "cell_type": "markdown",
   "metadata": {
    "id": "q88-s6BQNr0M"
   },
   "source": [
    "### Define the labels as the target variable for test and the train dataset"
   ]
  },
  {
   "cell_type": "code",
   "execution_count": 21,
   "metadata": {
    "id": "HrzLkWs0Nvx4"
   },
   "outputs": [],
   "source": [
    "Y_train = [getLabelsInListForOneSentence(labels) for labels in train_labels]\n",
    "Y_test = [getLabelsInListForOneSentence(labels) for labels in test_labels]"
   ]
  },
  {
   "cell_type": "markdown",
   "metadata": {
    "id": "YrIAz8gqN_Js"
   },
   "source": [
    "# Build the CRF Classifier"
   ]
  },
  {
   "cell_type": "code",
   "execution_count": 22,
   "metadata": {
    "id": "k2oGSiqQ8Otd"
   },
   "outputs": [],
   "source": [
    "crf = sklearn_crfsuite.CRF(max_iterations=300)\n",
    "\n",
    "try:\n",
    "    crf.fit(X_train, Y_train)\n",
    "except AttributeError:\n",
    "    pass\n",
    "    \n",
    "predictions = crf.predict(X_test)"
   ]
  },
  {
   "cell_type": "markdown",
   "metadata": {
    "id": "5VPFrPZJOJMq"
   },
   "source": [
    "# Evaluation"
   ]
  },
  {
   "cell_type": "code",
   "execution_count": 23,
   "metadata": {
    "id": "D_sDJs1n8-sI"
   },
   "outputs": [],
   "source": [
    "Y_pred = crf.predict(X_test)"
   ]
  },
  {
   "cell_type": "markdown",
   "metadata": {
    "id": "qIneYrqZOUiJ"
   },
   "source": [
    "### Calculate the f1 score using the actual labels and the predicted labels of the test dataset."
   ]
  },
  {
   "cell_type": "code",
   "execution_count": 24,
   "metadata": {
    "colab": {
     "base_uri": "https://localhost:8080/"
    },
    "executionInfo": {
     "elapsed": 7,
     "status": "ok",
     "timestamp": 1674236245310,
     "user": {
      "displayName": "Or Levitas",
      "userId": "03940875326974445177"
     },
     "user_tz": -120
    },
    "id": "mTJh1046Fob9",
    "outputId": "3a1894a8-cdc8-4e0b-f69f-4108abf3c575"
   },
   "outputs": [
    {
     "data": {
      "text/plain": [
       "Test annotations\n",
       "O                   16127\n",
       "D                    1450\n",
       "T                    1041\n",
       "dtype: int64"
      ]
     },
     "execution_count": 24,
     "metadata": {},
     "output_type": "execute_result"
    }
   ],
   "source": [
    "expended_list = [Y_sentence for Y_sentences in Y_test for Y_sentence in Y_sentences]\n",
    "\n",
    "df = pd.DataFrame()\n",
    "df['Test annotations'] = expended_list\n",
    "df.value_counts()"
   ]
  },
  {
   "cell_type": "code",
   "execution_count": 29,
   "metadata": {
    "id": "xew06AC3Lch1"
   },
   "outputs": [
    {
     "name": "stdout",
     "output_type": "stream",
     "text": [
      "0.9157843882472863\n",
      "0.7476424017612026\n"
     ]
    }
   ],
   "source": [
    "print(metrics.flat_f1_score(Y_test, Y_pred, average='weighted'))\n",
    "print(metrics.flat_f1_score(Y_test, Y_pred, average='macro'))"
   ]
  },
  {
   "cell_type": "code",
   "execution_count": 58,
   "metadata": {
    "colab": {
     "base_uri": "https://localhost:8080/"
    },
    "executionInfo": {
     "elapsed": 37,
     "status": "ok",
     "timestamp": 1674233372052,
     "user": {
      "displayName": "Or Levitas",
      "userId": "03940875326974445177"
     },
     "user_tz": -120
    },
    "id": "Lr_JNIgrOTcr",
    "outputId": "d5b9d3bf-f855-4b89-8ad8-ceab8d75cae3"
   },
   "outputs": [
    {
     "data": {
      "text/plain": [
       "0.9083079133720954"
      ]
     },
     "execution_count": 58,
     "metadata": {},
     "output_type": "execute_result"
    }
   ],
   "source": [
    "metrics.flat_f1_score(Y_test, Y_pred, average='weighted')"
   ]
  },
  {
   "cell_type": "code",
   "execution_count": 65,
   "metadata": {
    "colab": {
     "base_uri": "https://localhost:8080/"
    },
    "executionInfo": {
     "elapsed": 316,
     "status": "ok",
     "timestamp": 1674233396154,
     "user": {
      "displayName": "Or Levitas",
      "userId": "03940875326974445177"
     },
     "user_tz": -120
    },
    "id": "lSd9PbCYFhtR",
    "outputId": "69690edf-5cbe-4155-e57d-e39e5c6791f8"
   },
   "outputs": [
    {
     "data": {
      "text/plain": [
       "0.7211435117446926"
      ]
     },
     "execution_count": 65,
     "metadata": {},
     "output_type": "execute_result"
    }
   ],
   "source": [
    "metrics.flat_f1_score(Y_test, Y_pred, average='macro')"
   ]
  },
  {
   "cell_type": "code",
   "execution_count": 59,
   "metadata": {
    "colab": {
     "base_uri": "https://localhost:8080/"
    },
    "executionInfo": {
     "elapsed": 35,
     "status": "ok",
     "timestamp": 1674233372052,
     "user": {
      "displayName": "Or Levitas",
      "userId": "03940875326974445177"
     },
     "user_tz": -120
    },
    "id": "cvSkRYLexE8S",
    "outputId": "11971095-cce8-426e-ec52-65d189c7a998"
   },
   "outputs": [
    {
     "name": "stdout",
     "output_type": "stream",
     "text": [
      "Sentence:  The objective of this study was to determine if the rate of preeclampsia is increased in triplet as compared to twin gestations\n",
      "Actual labels:     ['O', 'O', 'O', 'O', 'O', 'O', 'O', 'O', 'O', 'O', 'O', 'O', 'D', 'O', 'O', 'O', 'O', 'O', 'O', 'O', 'O', 'O']\n",
      "Predicted labels:  ['O', 'O', 'O', 'O', 'O', 'O', 'O', 'O', 'O', 'O', 'O', 'O', 'D', 'O', 'O', 'O', 'O', 'O', 'O', 'O', 'O', 'O']\n"
     ]
    }
   ],
   "source": [
    "# Example test sentence and corresponding actual and predicted labels \n",
    "print(\"Sentence: \",test_sentences[13])\n",
    "print(\"Actual labels:    \", Y_test[13])\n",
    "print(\"Predicted labels: \", Y_pred[13])"
   ]
  },
  {
   "cell_type": "code",
   "execution_count": 60,
   "metadata": {
    "colab": {
     "base_uri": "https://localhost:8080/"
    },
    "executionInfo": {
     "elapsed": 0,
     "status": "ok",
     "timestamp": 1674233372072,
     "user": {
      "displayName": "Or Levitas",
      "userId": "03940875326974445177"
     },
     "user_tz": -120
    },
    "id": "TlM79P6FxP_S",
    "outputId": "4c9b90b1-91f3-4f49-d2ef-af9626b85ca7",
    "scrolled": true
   },
   "outputs": [
    {
     "metadata": {
      "tags": null
     },
     "name": "stdout",
     "output_type": "stream",
     "text": [
      "[['word.lower=the', 'word.postag=NOUN', 'word[-3:]=The', 'word[-2:]=he', 'word.isupper=False', 'word.isdigit=False', 'words.startsWithCapital=True', 'BEG'], ['word.lower=objective', 'word.postag=NOUN', 'word[-3:]=ive', 'word[-2:]=ve', 'word.isupper=False', 'word.isdigit=False', 'words.startsWithCapital=False', 'prev_word.lower=the', 'prev_word.postag=NOUN', 'prev_word.isupper=False', 'prev_word.isdigit=False', 'prev_words.startsWithCapital=True'], ['word.lower=of', 'word.postag=NOUN', 'word[-3:]=of', 'word[-2:]=of', 'word.isupper=False', 'word.isdigit=False', 'words.startsWithCapital=False', 'prev_word.lower=objective', 'prev_word.postag=NOUN', 'prev_word.isupper=False', 'prev_word.isdigit=False', 'prev_words.startsWithCapital=False'], ['word.lower=this', 'word.postag=NOUN', 'word[-3:]=his', 'word[-2:]=is', 'word.isupper=False', 'word.isdigit=False', 'words.startsWithCapital=False', 'prev_word.lower=of', 'prev_word.postag=NOUN', 'prev_word.isupper=False', 'prev_word.isdigit=False', 'prev_words.startsWithCapital=False'], ['word.lower=study', 'word.postag=NOUN', 'word[-3:]=udy', 'word[-2:]=dy', 'word.isupper=False', 'word.isdigit=False', 'words.startsWithCapital=False', 'prev_word.lower=this', 'prev_word.postag=NOUN', 'prev_word.isupper=False', 'prev_word.isdigit=False', 'prev_words.startsWithCapital=False'], ['word.lower=was', 'word.postag=NOUN', 'word[-3:]=was', 'word[-2:]=as', 'word.isupper=False', 'word.isdigit=False', 'words.startsWithCapital=False', 'prev_word.lower=study', 'prev_word.postag=NOUN', 'prev_word.isupper=False', 'prev_word.isdigit=False', 'prev_words.startsWithCapital=False'], ['word.lower=to', 'word.postag=NOUN', 'word[-3:]=to', 'word[-2:]=to', 'word.isupper=False', 'word.isdigit=False', 'words.startsWithCapital=False', 'prev_word.lower=was', 'prev_word.postag=NOUN', 'prev_word.isupper=False', 'prev_word.isdigit=False', 'prev_words.startsWithCapital=False'], ['word.lower=determine', 'word.postag=NOUN', 'word[-3:]=ine', 'word[-2:]=ne', 'word.isupper=False', 'word.isdigit=False', 'words.startsWithCapital=False', 'prev_word.lower=to', 'prev_word.postag=NOUN', 'prev_word.isupper=False', 'prev_word.isdigit=False', 'prev_words.startsWithCapital=False'], ['word.lower=if', 'word.postag=NOUN', 'word[-3:]=if', 'word[-2:]=if', 'word.isupper=False', 'word.isdigit=False', 'words.startsWithCapital=False', 'prev_word.lower=determine', 'prev_word.postag=NOUN', 'prev_word.isupper=False', 'prev_word.isdigit=False', 'prev_words.startsWithCapital=False'], ['word.lower=the', 'word.postag=NOUN', 'word[-3:]=the', 'word[-2:]=he', 'word.isupper=False', 'word.isdigit=False', 'words.startsWithCapital=False', 'prev_word.lower=if', 'prev_word.postag=NOUN', 'prev_word.isupper=False', 'prev_word.isdigit=False', 'prev_words.startsWithCapital=False'], ['word.lower=rate', 'word.postag=NOUN', 'word[-3:]=ate', 'word[-2:]=te', 'word.isupper=False', 'word.isdigit=False', 'words.startsWithCapital=False', 'prev_word.lower=the', 'prev_word.postag=NOUN', 'prev_word.isupper=False', 'prev_word.isdigit=False', 'prev_words.startsWithCapital=False'], ['word.lower=of', 'word.postag=NOUN', 'word[-3:]=of', 'word[-2:]=of', 'word.isupper=False', 'word.isdigit=False', 'words.startsWithCapital=False', 'prev_word.lower=rate', 'prev_word.postag=NOUN', 'prev_word.isupper=False', 'prev_word.isdigit=False', 'prev_words.startsWithCapital=False'], ['word.lower=preeclampsia', 'word.postag=NOUN', 'word[-3:]=sia', 'word[-2:]=ia', 'word.isupper=False', 'word.isdigit=False', 'words.startsWithCapital=False', 'prev_word.lower=of', 'prev_word.postag=NOUN', 'prev_word.isupper=False', 'prev_word.isdigit=False', 'prev_words.startsWithCapital=False'], ['word.lower=is', 'word.postag=NOUN', 'word[-3:]=is', 'word[-2:]=is', 'word.isupper=False', 'word.isdigit=False', 'words.startsWithCapital=False', 'prev_word.lower=preeclampsia', 'prev_word.postag=NOUN', 'prev_word.isupper=False', 'prev_word.isdigit=False', 'prev_words.startsWithCapital=False'], ['word.lower=increased', 'word.postag=NOUN', 'word[-3:]=sed', 'word[-2:]=ed', 'word.isupper=False', 'word.isdigit=False', 'words.startsWithCapital=False', 'prev_word.lower=is', 'prev_word.postag=NOUN', 'prev_word.isupper=False', 'prev_word.isdigit=False', 'prev_words.startsWithCapital=False'], ['word.lower=in', 'word.postag=NOUN', 'word[-3:]=in', 'word[-2:]=in', 'word.isupper=False', 'word.isdigit=False', 'words.startsWithCapital=False', 'prev_word.lower=increased', 'prev_word.postag=NOUN', 'prev_word.isupper=False', 'prev_word.isdigit=False', 'prev_words.startsWithCapital=False'], ['word.lower=triplet', 'word.postag=NOUN', 'word[-3:]=let', 'word[-2:]=et', 'word.isupper=False', 'word.isdigit=False', 'words.startsWithCapital=False', 'prev_word.lower=in', 'prev_word.postag=NOUN', 'prev_word.isupper=False', 'prev_word.isdigit=False', 'prev_words.startsWithCapital=False'], ['word.lower=as', 'word.postag=NOUN', 'word[-3:]=as', 'word[-2:]=as', 'word.isupper=False', 'word.isdigit=False', 'words.startsWithCapital=False', 'prev_word.lower=triplet', 'prev_word.postag=NOUN', 'prev_word.isupper=False', 'prev_word.isdigit=False', 'prev_words.startsWithCapital=False'], ['word.lower=compared', 'word.postag=NOUN', 'word[-3:]=red', 'word[-2:]=ed', 'word.isupper=False', 'word.isdigit=False', 'words.startsWithCapital=False', 'prev_word.lower=as', 'prev_word.postag=NOUN', 'prev_word.isupper=False', 'prev_word.isdigit=False', 'prev_words.startsWithCapital=False'], ['word.lower=to', 'word.postag=NOUN', 'word[-3:]=to', 'word[-2:]=to', 'word.isupper=False', 'word.isdigit=False', 'words.startsWithCapital=False', 'prev_word.lower=compared', 'prev_word.postag=NOUN', 'prev_word.isupper=False', 'prev_word.isdigit=False', 'prev_words.startsWithCapital=False'], ['word.lower=twin', 'word.postag=NOUN', 'word[-3:]=win', 'word[-2:]=in', 'word.isupper=False', 'word.isdigit=False', 'words.startsWithCapital=False', 'prev_word.lower=to', 'prev_word.postag=NOUN', 'prev_word.isupper=False', 'prev_word.isdigit=False', 'prev_words.startsWithCapital=False'], ['word.lower=gestations', 'word.postag=NOUN', 'word[-3:]=ons', 'word[-2:]=ns', 'word.isupper=False', 'word.isdigit=False', 'words.startsWithCapital=False', 'prev_word.lower=twin', 'prev_word.postag=NOUN', 'prev_word.isupper=False', 'prev_word.isdigit=False', 'prev_words.startsWithCapital=False', 'END']]\n"
     ]
    }
   ],
   "source": [
    "# Feature list of sentence above\n",
    "print(X_test[13])"
   ]
  },
  {
   "cell_type": "markdown",
   "metadata": {
    "id": "ORDyDw6sYHf5"
   },
   "source": [
    "# Medical NER and REL\n",
    "\n"
   ]
  },
  {
   "cell_type": "code",
   "execution_count": 61,
   "metadata": {
    "executionInfo": {
     "elapsed": 35,
     "status": "ok",
     "timestamp": 1674233372053,
     "user": {
      "displayName": "Or Levitas",
      "userId": "03940875326974445177"
     },
     "user_tz": -120
    },
    "id": "6reMqClg97Ry"
   },
   "outputs": [],
   "source": [
    "disease_treatment = {}            # Initializing an empty dictionary\n",
    "numsent_evidence = {}             # Initializing an empty dictionary\n",
    "for i in range(len(Y_pred)):\n",
    "    #print(test_sentences[i])\n",
    "    cnt_disease = 0           # Count of number of diseases mentioned in the sentence\n",
    "    cnt_treatment = 0         # Count of the number of treatments mentioned in the sentence\n",
    "    diseases = [\"\"]           # Initializing a blank list of diseases for current sentence.\n",
    "    treatment = [\"\"]          # Initializing a blank list of treatments for current sentence.\n",
    "    sentence_number = [\"\"]\n",
    "    evidence = [\"\"]\n",
    "    \n",
    "    length = len(Y_pred[i])   # Length of current sentence.\n",
    "    for j in range(length):\n",
    "        if (Y_pred[i][j] == 'D'):                                                     # Checking for label indicating disease for current word ('D')\n",
    "            diseases[cnt_disease] += (X_test[i][j][0].split('=')[1] + \" \")            # Adding word to diseases list.\n",
    "            if j < length - 1:\n",
    "                if (Y_pred[i][j+1] != 'D'):                                           # Check for name of disease extending over multiple words. \n",
    "                    # If next word does not have label 'D', then truncate the space added at the end of the last word.\n",
    "                    diseases[cnt_disease] = diseases[cnt_disease][:-1]\n",
    "                    cnt_disease += 1\n",
    "                    diseases.append(\"\")                                               # Adding a placeholder for the next disease in the current sentence.\n",
    "            else:\n",
    "                diseases[cnt_disease] = diseases[cnt_disease][:-1]\n",
    "                cnt_disease += 1\n",
    "                diseases.append(\"\")\n",
    "                            \n",
    "        if (Y_pred[i][j] == 'T'):                                                     # Checking for label indicating treatment for current word ('T')\n",
    "            treatment[cnt_treatment] += (X_test[i][j][0].split('=')[1] + \" \") # Adding word to corresponding treatment list.\n",
    "            if j < length - 1:\n",
    "                if (Y_pred[i][j+1] != 'T'):                                           # Check for name of treatment extending over multiple words. \n",
    "                    # If next word does not have label 'T', then truncate the space added at the end of the last word.\n",
    "                    treatment[cnt_treatment] = treatment[cnt_treatment][:-1]\n",
    "                    cnt_treatment += 1\n",
    "                    treatment.append(\"\")                                              # Adding a placeholder for the next treatment in the current sentence.\n",
    "            else:\n",
    "                treatment[cnt_treatment] = treatment[cnt_treatment][:-1]\n",
    "                cnt_treatment += 1\n",
    "                treatment.append(\"\")\n",
    "\n",
    "    diseases.pop(-1)    # Getting rid of the last empty placeholder in diseases list\n",
    "    treatment.pop(-1)   # Getting rid of the last empty placeholder in treatments list\n",
    "\n",
    "    # To our dictionary, add or append treatments to the diseases identified from the current sentence, if any.\n",
    "    if len(diseases) > 0:       # Checking if any diseases have been identified for the current sentence.\n",
    "\n",
    "        sentence_number = i\n",
    "        evidence = test_sentences[i]   \n",
    "        numsent_evidence[sentence_number] = evidence\n",
    "        for disease in diseases:\n",
    "            if disease in disease_treatment.keys():\n",
    "                # Extend treatment list if other treatments for the particular disease already exist\n",
    "                disease_treatment[disease].extend(treatment)\n",
    "            else:\n",
    "                # Creating list of treatments for particular disease if it doesn not exist already.\n",
    "                disease_treatment[disease] = treatment\n"
   ]
  },
  {
   "cell_type": "code",
   "execution_count": 62,
   "metadata": {
    "colab": {
     "base_uri": "https://localhost:8080/"
    },
    "executionInfo": {
     "elapsed": 35,
     "status": "ok",
     "timestamp": 1674233372053,
     "user": {
      "displayName": "Or Levitas",
      "userId": "03940875326974445177"
     },
     "user_tz": -120
    },
    "id": "17rIyW832bYN",
    "outputId": "aa4dad64-101a-4676-a053-b67c39758c92"
   },
   "outputs": [
    {
     "data": {
      "text/plain": [
       "{5: 'This study tested the hypothesis that to reduce the rate of macrosomic infants in gestational diabetes cases , good glycemic control should be initiated before 34 completed gestational weeks',\n",
       " 13: 'The objective of this study was to determine if the rate of preeclampsia is increased in triplet as compared to twin gestations',\n",
       " 15: 'The rate of severe preeclampsia was increased significantly in the triplet group 12 of 53 ( 22.6 % ) as compared with the twin group 3 of 53 ( 5.7 % ) ( OR = 4.9 , 95 % CI 1.2-23.5 , p = 0.02 )',\n",
       " 20: 'Sequelae include severe developmental delay and asymmetric double hemiplegia',\n",
       " 21: 'A subchorial placental hematoma , which detected as a subchorial placental lucencies by ultrasonography , can be a cause of reversible nonimmune hydrops fetalis',\n",
       " 27: 'CONTEXT : A mutation in the BRCA1 gene may confer substantial risk for breast and/or ovarian cancer',\n",
       " 29: 'PARTICIPANTS : Institutions selected 798 persons representing families ( 1 person for each family ) thought to be at elevated a priori risk of BRCA1 mutation due to potential risk factors , such as multiple cases of breast cancer , early age of breast cancer diagnosis , and cases of ovarian cancer',\n",
       " 33: 'CONTEXT : Approximately 9 % of prostate cancer cases have been estimated to result from inheritance of mutated prostate cancer susceptibility genes',\n",
       " 36: 'FAMILIES : A total of 74 North American families with hereditary prostate cancer',\n",
       " 37: 'CONCLUSIONS : Families that provide evidence for segregation of an altered HPC1 gene are characterized by multiple cases of prostate cancer that , in most respects , are indistinguishable from nonhereditary cases',\n",
       " 39: 'OBJECTIVE : To investigate several loci spanning 3 candidate regions for a role in multiple sclerosis ( MS ) susceptibility in 2 ethnic groups using both single-locus and haplotype analyses',\n",
       " 46: '< TO_SEE > CONTEXT : There is a substantial risk of a second cancer for persons with hereditary retinoblastoma , which is enhanced by radiotherapy',\n",
       " 61: 'CONCLUSION : Methylphenidate is effective in treating children with epilepsy and ADHD and safe in children who are seizure free',\n",
       " 71: 'METHODS : The effect of roxithromycin was assessed in a double-blind , randomised , prospective , multicentre , parallel-group , placebo-controlled pilot study of 202 patients with unstable angina or non-Q-wave myocardial infarction',\n",
       " 73: 'INTERPRETATION : Antichlamydial antibiotics may be useful in therapeutic intervention in addition to standard medication in patients with coronary-artery disease',\n",
       " 75: 'INTERPRETATION : There is no treatment of choice for early-stage cervical carcinoma in terms of overall or disease-free survival',\n",
       " 89: 'Similar B/W differences were observed for patients with advanced disease but not with early stage',\n",
       " 94: 'Twenty-four patients with cerebral palsy and 24 control subjects between the ages of 4 and 12 yr were enrolled in this study',\n",
       " 103: 'It could reduce PI significantly more ( P & # 60 ; 0.05 ) than placebo controls only for the subgroup with mild to moderate pain , but not with severe pain',\n",
       " 105: 'It is concluded that ENS is more effective for immediate relief of myofascial trigger point pain than EMS , and EMS has a better effect on immediate release of muscle tightness than ENS',\n",
       " 111: 'Screening all women aged & # 60 ; or = 25 and all women who had had two or more partners in the past year would have detected 87 % ( 20/23 ) of infections',\n",
       " 115: 'Our purpose was to systematically review data on brain serotonin neurotoxicity in animals treated with fenfluramines and the evidence linking fenfluramines to primary pulmonary hypertension ( PPH )',\n",
       " 119: \"The manufacturer claims that moxonidine `` accurately targets imidazoline receptors at the cardiovascular control centre in the brainstem '' and is `` as effective as current first-line therapies for essential hypertension ``\",\n",
       " 139: 'BACKGROUND : Inadequate dietary intake of calcium and vitamin D may contribute to the high prevalence of osteoporosis among older persons',\n",
       " 152: 'METHODS : 40 diabetic patients with foot infections were enrolled in a double-blind placebo-controlled study',\n",
       " 155: '< TO_SEE > FINDINGS : G-CSF therapy was associated with earlier eradication of pathogens from the infected ulcer ( median 4 ( range 2-10 ) vs 8 ( 2-79 ) days in the placebo group ; p = 0.02 ) , quicker resolution of cellulitis < ( 7 ( 5-20 ) vs 12 ( 5-93 ) days ; p = 0.03 ) , shorter hospital stay ( 10 ( 7-31 ) vs 17.5 ( 9-100 ) days ; p = 0.02 ) , and a shorter duration of intravenous antibiotic treatment ( 8.5 ( 5-30 ) vs 14.5 ( 8-63 ) days ; p = 0.02 )',\n",
       " 157: 'INTERPRETATION : G-CSF treatment was associated with improved clinical outcome of foot infection in diabetic patients',\n",
       " 159: 'The respective rates of any stroke and of hemorrhagic stroke were 1.92 and 1.12 percent after double-bolus alteplase , as compared with 1.53 and 0.81 percent after an accelerated infusion of alteplase ( P=0.24 and P=0.23 , respectively )',\n",
       " 162: '< TO_SEE > METHODS : We identified valvular heart diseasein 24 women treated with fenfluramine-phentermine who had no history of cardiac disease',\n",
       " 167: 'Successful arthrodesis was achieved in all five feet in patients with rheumatoid arthritis',\n",
       " 175: 'Fifty-one per cent of stroke victims were below the age of 54 years',\n",
       " 185: \"Ropinirole monotherapy is an effective and well-tolerated therapeutic option for treatment of early Parkinson 's disease\",\n",
       " 193: 'More of those initially prescribed antibiotics initially returned to the surgery with sore throat ( 38 % v 27 % , adjusted hazard ratio for return 1.39 % , 95 % confidence interval 1.03 to 1.89 )',\n",
       " 194: 'Antibiotics prescribed for sore throat during the previous year had an additional effect ( hazard ratio 1.69 , 1.20 to 2.37 )',\n",
       " 196: 'Prior attendance with upper respiratory conditions was also associated with increased reattendance',\n",
       " 198: 'Both current and previous prescribing for sore throat increase reattendance',\n",
       " 199: 'This study was designed to determine and compare the dose-response characteristics , speed of onset , and relative potency of single-dose epidural fentanyl ( F ) and sufentanil ( S ) for postoperative pain relief',\n",
       " 205: 'Our data suggest that the relative analgesic potency of epidural S : F is approximately 5 and that there are no differences between the opioids in the onset , duration , and effectiveness of analgesia when equianalgesic doses are administered postoperatively after lidocaine anesthesia for C/S',\n",
       " 207: 'In patients with chronic neutropenia , splenomegaly has been described with long-term use , and extramedullary hematopoiesis has also been reported',\n",
       " 210: 'MATERIALS AND METHODS : The panel searched the MEDLINE data base for all articles through 1993 on surgical treatment of female stress urinary incontinence',\n",
       " 212: 'The evidence supports surgery as initial therapy and as a secondary form of therapy after failure of other treatments for stress urinary incontinence',\n",
       " 214: 'BACKGROUND : For more than 30 years it has been known that gastric acid secretion is inversely related to the extent and severity of corpal gastritis',\n",
       " 217: 'We hypothesize that there is a higher incidence of preeclampsia ( proteinuric hypertension ) in women conceiving by intrauterine insemination with donor sperm versus intrauterine insemination with partner sperm',\n",
       " 218: 'Three cases of mild preeclampsia were found in the partner insemination program and nine cases of preeclampsia ( five severe , four mild ) in the donor insemination program ( relative risk 1.85 , 95 % confidence interval 1.20 to 2.85 ) .',\n",
       " 228: 'OBJECTIVE : To determine whether patients with myocardial amyloidosis due either to AL ( primary ) amyloid or familial amyloid have distinguishing echocardiographic or electrocardiographic features ; and to compare the prevalence of heart failure and survival in the two types of amyloidosis in relation to echocardiographic findings',\n",
       " 229: 'PATIENTS : 36 patients with cardiac amyloid heart disease , of whom 12 had familial and 24 had primary AL amyloidosis',\n",
       " 230: 'Retinopathy was assessed by ophthalmoscopy after pupillary dilation and classified as any retinopathy or as nonproliferative and proliferative',\n",
       " 232: 'Intra-abdominal injury was present in 32 ( 73 % ) of these patients',\n",
       " 233: 'The senior surgery resident correctly predicted the presence of intra-abdominal injury in 36 ( 82 % ) of the patients ( sensitivity = 90.0 % , specificity = 58.3 % , positive predictive value = 85.3 % , negative predictive value = 63.6 % , phi = 0.52 , P & # 60 ; .01 ) in the emergency department before DPL and celiotomy were performed',\n",
       " 234: 'CONCLUSIONS : Clinical judgment is highly accurate in separating patients with tangential gunshot wounds to the abdomen from those with intra-abdominal injury but may miss patients with intra-abdominal hemorrhage',\n",
       " 235: 'Diagnostic peritoneal lavage is highly predictive of the presence of intra-abdominal injury',\n",
       " 241: '< TO_SEE > BACKGROUND : The cause of severe acquired hyperammonemia , an uncommon but often fatal complication of organ transplantation and chemotherapy for cancer , is obscure',\n",
       " 254: 'BACKGROUND : Thrombolytic treatment has been shown to accelerate resolution of major pulmonary embolism and lead to a rapid improvement of right-side hemodynamics',\n",
       " 256: 'Clinical factors associated with a higher death rate were syncope ( P=.012 ) , arterial hypotension ( P=.021 ) , history of congestive heart failure ( P=.013 ) , and chronic pulmonary disease ( P=.032 )',\n",
       " 258: 'A 66-year-old male engineer diagnosed with malignant pleural mesothelioma 4 years previously had thoracotomy , radiotherapy , and chemotherapy',\n",
       " 262: 'Additional edema spreading to the internal capsule was noted in 32 of 34 cases and to the optic tract in 11 of 34 cases',\n",
       " 266: \"The authors found no consistent correlations between lesion size and location and clinical outcome as measured by a global outcome score , the Unified Parkinson 's Disease Rating Scale motor , activities of daily living , and bradykinesia `` off '' scores or rating of dyskinesias\",\n",
       " 278: 'Further studies of localized Darier disease may therefore prove to be instrumental in the search for the Darier disease gene',\n",
       " 282: 'The serum cytokine profile during the acute phase of her illness showed high levels of tumor necrosis factor-alpha , interleukin-6 and interferon-gamma , as is seen during activation of the immune system by TSS toxin 1',\n",
       " 284: 'It is possible that some cases of syndrome of hemorrhagic shock and encephalopathy represent a variant of TSS in small children',\n",
       " 285: 'After completion of chemotherapy and normalization of tumor markers , both patients presented with pulmonary symptoms attributable to their massively enlarging mediastinal teratomas .',\n",
       " 297: 'The efficiency of testicular sperm retrieval by testicular fine needle aspiration ( TEFNA ) was compared with open biopsy and testicular sperm extraction ( TESE ) , in 37 rigorously selected patients with non-obstructive azoospermia',\n",
       " 302: '< TO_SEE > In patients with non-obstructive azoospermia , TEFNA has a significantly lower yield compared to TESE',\n",
       " 307: 'Although the observed break points in the BCL-1 locus are not tightly clustered , its rearrangement has been documented in 40-70 % of cases of mantle cell lymphoma , whereas it only rarely occurs in other B cell lymphomas',\n",
       " 312: 'A case-control study was performed in eight pairs of women to determine whether preeclamptic women developed abnormalities in minor hemoglobins , glycolytic enzymes , or other blood components that might provide insight into the pathophysiology of preeclampsia , or that in combination might be used as a marker for the condition',\n",
       " 317: 'The results are consistent with perturbations in red cell glycolysis in preeclampsia',\n",
       " 342: 'The AF-4 gene on human chromosome 4q21 is involved in reciprocal translocations to the ALL-1 gene on chromosome 11q23 , which are associated with acute lymphoblastic leukaemias',\n",
       " 367: 'Chronic exposure of female Rhesus monkeys increases the incidence and severity of endometriosis',\n",
       " 372: 'Better knowledge of non lipidic effects of statins on the arterial wall and the discovery of the action of fibrates on PPAR ( Peroxisome Proliferator Activated Receptors ) improved strongly the therapeutic management of hyperlipidemias',\n",
       " 373: 'However , these results have to be confirmed by larger trials , currently underway , before to consider that beta-blockade should definitely be incorporated in the treatment of heart failure',\n",
       " 395: 'A postal survey was performed to determine the current practices and attitudes of radiologists towards the imaging of suspected lower limb deep vein thrombosis ( DVT )',\n",
       " 417: 'Hepatocerebral degeneration ( portal systemic encephalopathy )',\n",
       " 425: 'Modified bra in the prevention of mastitis in nursing mothers',\n",
       " 427: 'The family physician and cervical carcinoma -- challenge and opportunity',\n",
       " 433: 'Measured subtotal gastrectomy for duodenal ulcer',\n",
       " 436: 'Treatment of childhood schizophrenia',\n",
       " 437: 'Polycystic ovaries associated with congenital adrenal hyperplasia',\n",
       " 440: \"The metabolism of intravenously injected isotopic cholic acid in Laennec 's cirrhosis\",\n",
       " 442: 'Etiology and incidence of renal stones',\n",
       " 443: 'Diagnosis of stone disease',\n",
       " 444: 'Medical treatment of stone disease',\n",
       " 446: 'Comparison of the international and American systems for the staging of breast cancer',\n",
       " 458: 'Twinning in relation to birth weight , mortality , and congenital anomalies',\n",
       " 459: 'Ovarian carcinoma',\n",
       " 474: 'Sodium in heart failure',\n",
       " 475: 'Potassium in heart failure',\n",
       " 477: 'Various aspects of diuresis in heart congestive failure',\n",
       " 480: \"Immediate outcome and long-term results of 108 sphincterotomies of Oddi 's sphincter of biliary indication\",\n",
       " 481: 'Rhinitis in herds with piglet influenza',\n",
       " 486: 'The rate of severe preeclampsia is increased in triplet as compared to twin gestations',\n",
       " 487: 'Pregnancy in chronic progressive external ophthalmoplegia : a case report',\n",
       " 488: 'Effect of magnesium sulfate on the development of cystic periventricular leukomalacia in preterm infants',\n",
       " 496: 'Are the products of CD44 exons v5 and v6 markers for metastasis of laryngeal carcinomas ?',\n",
       " 505: 'Attitudes toward health-care , HIV infection , and perinatal transmission interventions in a cohort of inner-city , pregnant women',\n",
       " 507: 'The comparison of the responsiveness of human isolated internal mammary and gastroepiploic arteries to levcromakalim : an alternative approach to the management of graft spasm',\n",
       " 508: 'Single-dose pharmacokinetics of felbamate in patients with renal dysfunction',\n",
       " 510: 'Elective surgery for colorectal cancer in the aged : a clinical-economical evaluation',\n",
       " 511: \"Leukaemia and non-Hodgkin 's lymphoma in children and young adults : are prenatal and neonatal factors important determinants of disease ?\",\n",
       " 512: 'Inverse correlation between loss of heterozygosity of the short arm of chromosome 12 and p15ink4B/p16ink4 gene inactivation in childhood acute lymphoblastic leukaemia',\n",
       " 513: 'Elective surgery for gastrointestinal tumours in the elderly',\n",
       " 518: 'Treatment uncertainties surround early diagnosis of breast cancer',\n",
       " 535: 'Screening for Chlamydia trachomatis ?',\n",
       " 537: 'Winning the war on cancer',\n",
       " 541: 'Another use of androgens : treatment of anemia of end-stage renal disease',\n",
       " 543: 'Classification of malignant lymphomas : the updated Kiel classification',\n",
       " 544: 'Diagnosing and managing polymyalgia rheumatica and temporal arteritis',\n",
       " 551: 'Environmental tobacco smoke and coronary heart disease',\n",
       " 566: '< TO_SEE > Probucol and multivitamins in the prevention of restenosis after coronary angioplasty',\n",
       " 569: \"Thalidomide in oral Crohn 's disease refractory to conventional medical treatment\",\n",
       " 594: 'Should we screen for gestational diabetes ?',\n",
       " 599: 'Non-steroidal anti-inflammatory therapy for bronchial asthma',\n",
       " 601: 'Pure alexia could not be a disconnection syndrome',\n",
       " 607: 'Back from the dead : extracorporeal rewarming of severe accidental hypothermia victims in accident and emergency',\n",
       " 609: 'Management of patients with HIV/AIDS',\n",
       " 610: 'Pregnancy outcomes in women with gestational diabetes compared with the general obstetric population',\n",
       " 617: 'Evaluation of diagnostic peritoneal lavage in stable patients with gunshot wounds to the abdomen',\n",
       " 619: 'Clinical significance of Blastocystis hominis infection : epidemiologic study',\n",
       " 622: 'Double-blind study of pulsing magnetic field effects on multiple sclerosis .',\n",
       " 627: 'Does hyperglycemia really cause coronary heart disease ?',\n",
       " 628: 'Diagnosis and therapy of primary stomach lymphoma',\n",
       " 631: 'Bullous eruption in a patient with systemic lupus erythematosus : mite dermatitis caused by Cheyletiella blakei',\n",
       " 632: 'A case-control study of cytochrome P450 1A1 , glutathione S-transferase M1 , cigarette smoking and lung cancer susceptibility ( Massachusetts , United States )',\n",
       " 633: 'Association between thrombolytic treatment and the prognosis of hemodynamically stable patients with major pulmonary embolism : results of a multicenter registry .',\n",
       " 634: 'Metastatic malignant mesothelioma presenting as colonic polyps',\n",
       " 635: \"Microelectrode-guided posteroventral pallidotomy for treatment of Parkinson 's disease : postoperative magnetic resonance imaging analysis\",\n",
       " 639: 'Follow up after potential curative surgery of colorectal cancer',\n",
       " 640: 'Fulminant hepatic failure in murine hepatitis virus strain 3 infection : tissue-specific expression of a novel fgl2 prothrombinase',\n",
       " 645: 'SYT-SSX gene fusion as a determinant of morphology and prognosis in synovial sarcoma',\n",
       " 646: 'Genetic testing for cancer risk : how to reconcile the conflicts',\n",
       " 650: 'Shark cartilage for cancer ?',\n",
       " 653: 'Small cell lung cancer can express CD34 antigen',\n",
       " 654: 'Evaluation of a ventilation strategy to prevent barotrauma in patients at high risk for acute respiratory distress syndrome',\n",
       " 656: 'Translocations of 11q13 in mantle cell lymphoma fail to disrupt the S mu bp-2 gene',\n",
       " 661: 'Treatment of hypertensive patients with diabetes',\n",
       " 671: 'Histologic diagnosis of chronic hepatitis , grading and staging',\n",
       " 676: 'Psychobiology of Postraumatic Stress Disorder',\n",
       " 699: 'Serologic evidence for mother-to-child transmission of Kaposi sarcoma-associated herpesvirus infection',\n",
       " 700: 'New developments in the treatment of diabetes and hyperlipidemias',\n",
       " 701: 'Role of beta-blockers in the treatment of cardiac insufficiency',\n",
       " 706: 'Morphology and molecular biology of malignant soft tissue sarcomas',\n",
       " 707: 'Radiotherapy of soft tissue sarcomas',\n",
       " 708: 'Intramedullary metastases of bronchogenic carcinoma',\n",
       " 709: 'Nervous system borreliosis with pseudo-lymphoma cells in cerebrospinal fluid',\n",
       " 712: 'Auditory perception disorders due to bilateral cortical lesions',\n",
       " 718: 'A gross and microscopic study of cerebral injuries accompanying maxillofacial high-velocity projectile wounding in dogs',\n",
       " 726: 'Coronary endothelial dysfunction in humans is associated with myocardial perfusion defects',\n",
       " 736: 'The veracious etiology of ectopic pregnancy',\n",
       " 744: \"Cerebrospinal fluid and plasma insulin levels in Alzheimer 's disease : relationship to severity of dementia and apolipoprotein E genotype\",\n",
       " 746: \"Anaesthesia for laparoscopic cholecystectomy in a patient with Eisenmenger 's syndrome\",\n",
       " 748: 'Vitamin K2 and serum cholesterol in patients on continuous ambulatory peritoneal dialysis',\n",
       " 749: 'Clinical evaluation of adjuvant chemoradiotherapy with CDDP , 5-FU , and VP-16 for advanced esophageal cancer',\n",
       " 750: 'The effect of a social support boosting intervention on stress , coping , and social support in caregivers of children with HIV/AIDS',\n",
       " 758: '< TO_SEE > Prevention of a first stroke by transfusions in children with sickle cell anemia and abnormal results on transcranial Doppler ultrasonography',\n",
       " 766: 'Role of the ketogenic diet in children with intractable seizures .',\n",
       " 767: 'Evaluation of the microparticle enzyme immunoassay Abbott IMx Select Chlamydia and the importance of urethral site sampling to detect Chlamydia trachomatis in women',\n",
       " 769: '< TO_SEE > New-onset angina preceding acute myocardial infarction is associated with improved contractile recovery after thrombolysis',\n",
       " 773: 'Genetic findings in congenital bilateral aplasia of vas deferens patients and identification of six novel mutatations',\n",
       " 775: 'A novel point mutation in a splice acceptor site of intron 1 of the human low density lipoprotein receptor gene which causes severe hypercholesterolemia : an unexpected absence of exon skipping',\n",
       " 784: 'Microalbuminuria is positively associated with usual dietary saturated fat intake and negatively associated with usual dietary protein intake in people with insulin-dependent diabetes mellitus',\n",
       " 789: 'Have we treated AIDS too well ? Rationing and the future of AIDS exceptionalism',\n",
       " 793: 'Myoepithelial carcinoma with predominance of plasmacytoid cells arising in a pleomorphic adenoma of the parotid gland',\n",
       " 798: 'Mutational analysis of the cystathionine beta-synthase gene : a splicing mutation , two missense mutations and an insertion in patients with homocystinuria',\n",
       " 806: 'Hormone replacement therapy and breast cancer .',\n",
       " 807: 'Polymorphism in promoter region of inducible nitric oxide synthase gene and protection against malaria',\n",
       " 808: 'A systematic review of five systemic treatments for severe psoriasis',\n",
       " 809: 'Trisomy 10 in leukemia',\n",
       " 812: 'Acute obstructive hydrocephalus complicating bacterial meningitis in childhood',\n",
       " 814: 'How do you treat refractory pouchitis and when do you decide to remove the pouch ?',\n",
       " 825: 'clinically , oral administration of uft has proved to be effective as an adjuvant therapy after surgery for some malignant tumors such as non-small cell lung cancer',\n",
       " 826: 'moreover , uft has proved to be effective for inoperable advanced malignancies such as colorectal cancer , especially in combination with leucovorin or cisplatin',\n",
       " 827: 'in conclusion , fractionated administration of cpt-11 and cddp was highly effective for advanced nsclc with manageable toxicities',\n",
       " 828: 'weekly paclitaxel was very well tolerated , yet was effective for recurrent cervical adenocarcinoma',\n",
       " 831: '< TO_SEE > the availability of four antiviral agents that effectively prevent and treat influenza provides the physician with considerable flexibility for their use in influenza control',\n",
       " 832: 'background and objectives : thoracic paravertebral block ( tpvb ) is a unilateral analgesic technique that has been advocated in both acute and chronic thoracic and abdominal pain',\n",
       " 833: 'this report illustrates that tpvb could also be effective for this kind of pain',\n",
       " 834: 'conclusions : this case report supports the notion that , in practice , the paravertebral block could be an effective and safe alternative to relief of pleuritic pain',\n",
       " 837: 'two triazole antifungal agents , fluconazole and itraconazole , were introduced over a decade ago and since then have been used extensively for the prophylaxis and treatment of a variety of fungal infections',\n",
       " 838: 'the use of topical corticosteroids has revolutionised the treatment of inflammatory skin diseases',\n",
       " 840: 'the cancer and leukemia group b performed a series of studies involving sequential chemotherapy followed by radiation for patients with unresectable stage iii nsclc',\n",
       " 841: 'only 22 patients ( 10 % ) were alive at five years : 19 patients with nsclc who had got surgical treatment , one patient with nsclc ( stage iiib ) who had recieved radiotherapy , and two patients with sclc , limited disease , treated with chemo- and radiotherapy',\n",
       " 842: 'whether the era of platinum-based chemotherapy in the treatment of nsclc should continue or not must be determined by phase iii trials , evaluating the use of a platinum agent with one of the new agent combinations',\n",
       " 845: 'purpose : many patients with locally advanced non-small-cell lung cancer ( la-nsclc ) are eligible for combined-modality therapy ( cmt ; chemotherapy and radiotherapy )',\n",
       " 846: 'objective : to report the use of heparin and enoxaparin for radiation-induced myelopathy',\n",
       " 847: 'conclusion : vip combination chemotherapy and early concurrent thoracic irradiation for patients with limited stage small cell lung cancer revealed excellent antitumor response with tolerable toxicity',\n",
       " 849: 'we evaluated the role of systemic chemotherapy for patients with malignant pleural effusions from nsclc',\n",
       " 850: 'in contrast , the introduction and improvement of chemotherapy since the 1970s gave rise to an improvement in - only short-term ( < 2 years ) - survival for patients with small-cell lung cancer',\n",
       " 851: 'the degree of healing and damage of the bronchial wall after photodynamic therapy , nd-yag laser and electrocautery for intraluminal early-stage cancer have been analysed',\n",
       " 852: 'to examine whether efficacy of postoperative oral administration of uft , a 5-fluorouracil derivative chemotherapeutic agent , may be influenced by incidence of apoptosis ( apoptosis index ) or apoptosis-related gene status ( p53 and bcl-2 ) of the tumour , a total of 162 patients with pathologic stage i non-small cell lung cancer were retrospectively reviewed',\n",
       " 853: 'is prolonged survival possible for patients with supraclavicular node metastases in nsclc treated with chemoradiotherapy ? ijrobp 1999 ; 44 ( 4 ) : 847-853',\n",
       " 854: 'we aimed to investigate whether biological factors related to radiosensitivity and chemosensitivity have prognostic significance in non-small-cell-lung-cancer ( nsclc ) patients treated with daily low doses of cisplatin and radiotherapy',\n",
       " 855: 'methods : we placed stents for both esophageal and tracheobronchial stenoses in 8 patients ( 7 with esophageal cancer and 1 with lung cancer )',\n",
       " 857: \"a retrospective immunohistochemical study was performed on material from patients who were newly diagnosed with osteogenic sarcoma who were treated according to the t12 protocol from the authors ' institution between 1986 to 1993\",\n",
       " 858: 'for patients with lung carcinoma who are in relatively poor health , the authors chose videothoracoscopic lobectomy or partial resection of the lung instead of an open thoracotomy',\n",
       " 859: 'background : curative therapy is available for patients with stage 0 lung carcinoma , with a > 90 % 5-year survival rate',\n",
       " 861: 'patients with a single non-sclc , breast , melanoma , renal cell , and ovarian carcinoma brain metastasis have the best chance for long-term survival if treated with surgical resection and wbrt',\n",
       " 862: 'methods : over 90 months , therapeutic vats metastasectomy was accomplished upon 80 patients with colorectal metastases',\n",
       " 863: 'patients with limited-stage small-cell carcinoma of the lung are treated with combined-modality therapy with the intent to cure',\n",
       " 864: 'methods : we analyzed 30 patients who were discovered to have brain metastases during the diagnosis of 121 patients enrolled in three consecutive clinical trials on advanced nsclc assessing combination chemotherapy of cisplatin , ifosfamide and irinotecan with rhg-csf support',\n",
       " 865: 'in patients with metastatic colorectal cancer , intravenous oxaliplatin has been trialled as a monotherapy and in combination with other agents',\n",
       " 866: 'in addition , oxaliplatin has shown efficacy in patients with platinum-pretreated ovarian cancer and achieved objective response rates similar to paclitaxel in this setting ( 16 vs 17 % )',\n",
       " 867: \"promising results have also been found with oxaliplatin in patients with non-hodgkin 's lymphoma , breast cancer , mesothelioma and non-small cell lung cancer\",\n",
       " 868: 'additional clinical investigation of oxaliplatin in patients with other cancers is warranted given the promising results achieved in early trials , most notably in patients with platinum-pretreated ovarian cancer',\n",
       " 869: 'the current study was designed to assess the prognostic value of immunomorphologic changes in locoregional lymph nodes and lymphocytic infiltration of primary tumor ( li ) in patients who undergo resection for bronchogenic carcinoma',\n",
       " 870: 'the drug is currently in phase iii clinical trials for patients with non-small cell lung cancer in combination with paclitaxel and carboplatin , as well as in advanced hormone refractory prostate cancer in combination with mitoxantrone',\n",
       " 871: 'of 1 , 042 patients with primary lung cancer who underwent resection from 1982 to 1995 , 549 patients with adenocarcinoma ( ad ) and 363 with squamous cell carcinoma ( sq ) were included in this study',\n",
       " 872: 'chemotherapy administered before surgery or definitive irradiation has improved survival rates in patients with stage iii nsclc',\n",
       " 873: 'objectives : this study aims to test whether prophylactic cranial irradiation prolongs survival of patients with small cell lung cancer in complete remission',\n",
       " 874: 'combination chemotherapy is the cornerstone of treatment that confers a meaningful survival benefit for patients with small-cell lung cancer',\n",
       " 878: 'sample : 45 adults with primary cancer of the lung receiving < outpatient primary or adjuvant radiation therapy',\n",
       " 879: 'conclusions : this study is the first to evaluate planned sequential chemotherapy in patients with nsclc',\n",
       " 880: 'purpose : this randomized trial was designed to determine whether paclitaxel plus carboplatin ( pc ) offered a survival advantage over vinorelbine plus cisplatin ( vc ) for patients with advanced non -- small-cell lung cancer',\n",
       " 881: 'conclusion : pc is equally efficacious as vc for the treatment of advanced non -- small-cell lung cancer',\n",
       " 882: 'conclusions : the intensification of platinum dose ( cisplatin plus carboplatin ) in combination chemotherapy significantly increased the complete response rate , overall survival and number of two-year survivors among sclc patients with limited disease compared to combination therapy with carboplatin alone , suggesting that a more aggressive treatment to this category of patients is worthwhile , while no difference in treatment outcome was observed for patients with extensive disease',\n",
       " 883: 'the aim of this study was to investigate the relationships among technetium-99m tetrofosmin ( tc-tf ) accumulation in untreated small cell lung cancer ( sclc ) , the expression of p-glycoprotein ( pgp ) and multidrug resistance related protein-1 ( mrp1 ) , and the response to chemotherapy in patients with untreated sclc',\n",
       " 884: 'in the present report , we reviewed articles on pulmonary angiography for patients with pulmonary hypertension',\n",
       " 885: 'animal studies suggest that the kidney is involved in the elimination of recombinant human granulocyte colony-stimulating factor ( rhg-csf ) , which is used for patients with neutropenia during cancer chemotherapy',\n",
       " 887: '< TO_SEE > in another randomised phase iii trial in 303 patients with head and neck cancer undergoing irradiation therapy ( total dose 50 to 70gy ) , pretreatment with intravenous amifostine 200 mg/m2 significantly reduced the incidence of acute and late grade > or =2 xerostomia',\n",
       " 888: 'A review of the fetal-maternal carboxyhemoglobin relationships and the differences in fetal oxyhemoglobin physiology are used to explain the recommendation that pregnant women with carbon monoxide poisoning should receive 100 % oxygen therapy for up to five times longer than is otherwise necessary',\n",
       " 889: 'Therapeutic effect of a left ventricular assist device on acute myocardial infarction evaluated by magnetic resonance imaging',\n",
       " 890: 'Successful treatment of psoriasis with topical application of active vitamin D3 analogue , 1 alpha , 24-dihydroxycholecalciferol',\n",
       " 891: 'We suggest that 1 alpha , 24 ( OH ) 2D3 merits further investigation as a potentially useful topical therapy for psoriasis',\n",
       " 894: 'Ninety-six patients with disseminated malignant melanoma received thrice weekly intramuscular injections of leukocyte A recombinant interferon ( rIFN-alpha A , Roferon-A , Hoffmann La Roche ) at doses of 12 X 10 ( 6 ) U/m2 or 50 X 10 ( 6 ) U/m2 with or without cimetidine as an immunorestorative agent',\n",
       " 895: 'Ten patients with advanced stage ( TNM IIB-IVB ) mycosis fungoides were treated with a combination chemotherapy program consisting of bleomycin and methotrexate weekly , doxorubicin every 3 weeks , and topical nitrogen mustard daily ( BAM-M )',\n",
       " 896: 'Guiding surgical therapy of ventricular tachycardia by preoperative endocardial catheter mapping necessitates improvement of the accuracy of localization of the arrhythmogenic site',\n",
       " 899: 'Inchinko-to ( TJ-135 ) is a herbal medicine consisting of three kinds of crude drugs , and in Japan it is administered mainly to patients with cholestasis',\n",
       " 900: 'Therefore administration of TJ-135 may be useful in patients with severe acute hepatitis accompanying cholestasis or in those with autoimmune hepatitis',\n",
       " 901: 'Surgical management of syringomyelia associated with spinal adhesive arachnoiditis',\n",
       " 903: 'Prospective , randomized , largescale trials supporting any of the different treatment strategies are not available , but antibiotics and surgery probably have improved the long-term outcome of many patients with bronchiectasis',\n",
       " 906: 'BACKGROUND : An increasing number of reports indicate symptomatic relief of biliary colic symptoms after cholecystectomy for biliary dyskinesia',\n",
       " 907: 'Cholecystectomy should be a first-line therapy for biliary dyskinesia patients',\n",
       " 908: 'Effectiveness of pseudoephedrine plus acetaminophen for treatment of symptoms attributed to the paranasal sinuses associated with the common cold',\n",
       " 909: 'METHODS AND RESULTS : From 1959 to 1998 , 84 patients underwent a total of 90 operations for treatment of pulmonary aspergilloma in the Marie-Lannelongue Hospital',\n",
       " 911: \"Interferon plays a critical role in the host 's natural defense against viral infections and in their treatment\",\n",
       " 912: 'CONCLUSION : The WDTA is an intrinsically motivating educational program that has the ability to effect determinants of asthma self-management behavior in 9- to 13-year-old children with asthma',\n",
       " 913: 'Second , children in the first year of life are at highest risk of progression and should be treated with trimethoprim-sulfamethoxazole to prevent Pneumocystis carinii pneumonia , and targeted for receiving antiretrovirals',\n",
       " 917: 'AIM : To assess the impact on community-based pediatricians of the conclusions of the 10th Conference de Consensus en Therapeutique Anti-Infectieuse ( CCTAI ) on the antibiotic treatment in acute nasopharyngitis ( ANP )',\n",
       " 920: 'PURPOSE : Macrolide antibiotics are frequently prescribed to patients with symptoms of a common cold',\n",
       " 921: 'Because the symptoms of rhinovirus colds are attributed to the inflammatory response to infection , we studied the effects of treatment with clarithromycin on the symptomatic and inflammatory response to nasal inoculation with rhinovirus',\n",
       " 924: 'Clinical trials show levofloxacin to be as effective as cephalosporins in acute exacerbation of chronic bronchitis and as effective as co-amoxiclav , cephalosporins or amoxycillin in community-acquired pneumonia',\n",
       " 926: 'Humoral immune response after vaccination against influenza in patients with breast cancer',\n",
       " 927: 'Gingyo-san and its components were administered orally to mice 1 day before , then 1 and 4 days after the inhalation of a mouse-adopted strain of influenza A2 ( H2N2 ) virus',\n",
       " 928: 'Patients with evidence of infection with H. pylori were treated with a combination of omeprazole , amoxicillin , and clarithromycin',\n",
       " 929: 'BACKGROUND : Drainage methods for the gastric conduit after esophagectomy for carcinoma have been controversial',\n",
       " 930: 'Contemporary asthma management guidelines list inhaled corticosteroids as the preferred controller medication for patients with persistent asthma',\n",
       " 931: 'Fluticasone propionate is one of several inhaled corticosteroids used for the treatment of asthma',\n",
       " 932: 'Combination therapy with interferon-alpha ( IFN alpha ) plus Ribavirin has been shown to improve the response rate in patients with chronic hepatitis C as compared to IFN alpha alone',\n",
       " 933: 'To prove , whether Ribavirin has any additional effect on the decline of hepatitis C viremia during the first weeks of treatment patients with and without combination therapy were compared',\n",
       " 936: 'He needed mechanical ventilation for severe hypoxemia , but recovered with glucocorticoid pulse therapy',\n",
       " 937: 'CONCLUSION : In patients with asthma receiving repeated inhaled doses of FP , the systemic exposure ( AUC ) after inhalation from the Diskus was similar to that from the Diskhaler , with no difference between the DPIs in the effects on cortisol suppression',\n",
       " 940: 'Recent major epidemiologic trends in bacterial meningitis include a dramatic decline in the incidence of Haemophilus influenzae meningitis since the introduction of the protein-conjugated H. influenzae vaccines , and a worldwide increase in infections with antibiotic-resistant strains of bacterial pathogens',\n",
       " 941: 'Sida cordifolia L. ( Malvaceae ) is used in folk medicine for the treatment of inflammation of the oral mucosa , blenorrhea , asthmatic bronchitis and nasal congestion',\n",
       " 942: 'New vaccines are under study to further control bacterial meningitis',\n",
       " 943: 'The study involved 117 infants ( mean age 2.6 months ) , who needed hospital treatment because of RSV bronchiolitis',\n",
       " 944: 'OBJECTIVE : This study was designed to evaluate the safety and estimate the efficacy of oral budesonide in patients with primary sclerosing cholangitis ( PSC )',\n",
       " 947: 'Thrombolytic therapy has been accepted in the treatment of acute myocardial infarction',\n",
       " 949: \"Touch sensibility was assessed with von Frey 's monofilaments in the breasts of 10 healthy women ( controls ) and of 80 women with breast cancer who at least 1 year previously had undergone subcutaneous mastectomy and immediate reconstruction with a prosthesis\",\n",
       " 950: '< TO_SEE > CONCLUSIONS : Malnourished patients with chronic renal failure receiving PN are at risk of developing electrolyte abnormalities , particularly hypophosphatemia',\n",
       " 951: 'Aortocoronary bypass grafting is an accepted procedure for ischemic heart disease',\n",
       " 953: 'Subcutaneous injection of irradiated LLC-IL2 did not affect the growth of preexisting s.c. tumors and also did not improve survival of mice bearing the lung or peritoneal tumors',\n",
       " 955: '< TO_SEE > CONCLUSION : Direct PTA may be performed safely as an alternative to thrombolytic therapy in patients with acute occlusion of the middle cerebral artery when early CT findings and/or lenticulostriate artery involvement are present or when superselective local angiography shows the presence of a large embolus or high-grade stenosis',\n",
       " 958: \"As the overview shows , both groups of substances are useful for individualized treatment of benign prostatic hyperplasia ( BPH ) , provided that conservative pharmacological treatment of BPH is basically accepted and that the patients ' quality of life is also considered\",\n",
       " 959: 'Besides the well-known nonsteroidal antiinflammatory drugs ( NSAID ) for the treatment of rheumatic pain herbal medicine can also be applied successfully',\n",
       " 960: 'High-dose intravenous immunoglobulin ( hdIVIg ) is increasingly used to treat a range of inflammatory and autoimmune diseases',\n",
       " 961: 'We describe a technique that enables the autologous repair of large midline incisional hernias by restoring the functional musculoaponeurotic support of the abdominal wall',\n",
       " 963: 'While these findings are observed for all classes of oral drugs , the issue is especially critical for cancer chemotherapy , in which a narrow therapeutic index is frequently observed',\n",
       " 964: 'Therefore , interest is growing in mAbs as therapeutic alternatives for patients with low-grade NHL and those with transformed histology',\n",
       " 965: 'The activity of oral UFT in large-bowel cancer when administered with oral LV ( approximately 50 mg/dose ) has resulted in objective response rates of approximately 40 %',\n",
       " 966: 'CONCLUSION : UFT is a fluoropyrimidine active in colorectal cancer',\n",
       " 967: 'BACKGROUND : Adrenalectomy is the current treatment for phaeochromocytoma',\n",
       " 968: 'As single agent therapy in malignant melanoma , interferon alfa-2a was only marginally useful in most patients',\n",
       " 969: 'Studies with various interferon alpha preparations , including interferons induced in human leukocytes , interferon alfa-N1 , interferon alfa-2a , and interferon alfa-2b , have all provided evidence for modest but reproducible antitumor activity in advanced renal cell carcinoma',\n",
       " 970: 'The rationale for antileukemic therapy in hairy cell leukemia is to reduce the significant risk of infection and other potential serious complications',\n",
       " 971: \"Recombinant and natural forms of interferon alpha have been shown to bring about tumor regressions in patients with low-grade non-Hodgkin 's lymphoma\",\n",
       " 972: \"Current studies using interferon in patients with low-grade non-Hodgkin 's lymphomas are evaluating lower , and perhaps better tolerated doses of interferon\",\n",
       " 973: 'While the demonstrated antiviral , antiproliferative , and immunomodulatory properties of interferons have led to a number of theories regarding their potential use in treating individuals with chronic myelogenous leukemia ( CML ) , their limited availability has prevented thorough clinical investigation',\n",
       " 975: 'OBJECTIVE : We report the results of a double-blind , double-dummy , active-control study designed to evaluate the efficacy and safety of lamotrigine ( LTG ) administered as monotherapy to adult outpatients with partial seizures',\n",
       " 976: 'We conducted a long-term trial of docosahexanoic acid ( DHA ) -concentrated fish oil capsules for patients in a high-risk group for colorectal cancer',\n",
       " 977: 'This article reviews current trends in management of esophageal achalasia , highlighting short-term outcome and cost comparisons of three treatments : botulinum toxin injection , pneumatic dilation , and laparoscopic myotomy',\n",
       " 979: 'Treatment of irritable bowel syndrome with Chinese herbal medicine : a randomized controlled trial',\n",
       " 980: 'Tubularized incised plate hypospadias repair for proximal hypospadias',\n",
       " 981: 'Comparison of radical prostatectomy and iodine 125 interstitial radiotherapy for the treatment of clinically localized prostate cancer : a 7-year biochemical ( PSA ) progression analysis',\n",
       " 982: 'Immunotherapy of tumors with autologous tumor-derived heat shock protein preparations',\n",
       " 983: 'European register of patients with sickle cell disease treated with hydroxyurea is being set up',\n",
       " 984: \"Haematoma block versus intravenous regional anaesthesia in Colles ' fractures\",\n",
       " 986: 'Statins for prevention of stroke',\n",
       " 987: 'Effect of photodynamic therapy in combination with mitomycin C on a mitomycin-resistant bladder cancer cell line',\n",
       " 988: 'In vitro and in vivo comparison between the effects of treatment with adenosine triphosphate and treatment with buthionine sulfoximine on chemosensitization and tumour growth of B16 melanoma',\n",
       " 989: 'Effects of transpupillary thermotherapy on immunological parameters and apoptosis in a case of primary uveal melanoma',\n",
       " 990: 'Nerve-sparing surgery for advanced rectal cancer patients : special reference to Dukes C patients',\n",
       " 991: 'Current surgical therapy for bronchiectasis',\n",
       " 993: 'Transabdominal extensive esophagogastric devascularization with gastroesophageal stapling for management of noncirrhotic portal hypertension : long-term results',\n",
       " 994: 'Sliding door technique for the repair of midline incisional hernias',\n",
       " 995: 'Thoracoscopy for empyema in children',\n",
       " 996: \"Conventional treatments for non-Hodgkin 's lymphoma : the need for new therapies\",\n",
       " 997: 'Antiplatelet therapy in acute cerebral ischemia',\n",
       " 998: 'Excimer laser assisted in situ keratomileusis for hyperopia',\n",
       " 999: 'Interferon treatment of renal cell carcinoma',\n",
       " 1000: 'Antimicrobial treatment options in the management of odontogenic infections',\n",
       " 1001: 'An active-control trial of lamotrigine monotherapy for partial seizures',\n",
       " 1002: 'Gene therapy for myocardial angiogenesis',\n",
       " 1006: 'The treatment of autoimmune hemolytic anemia with heparin',\n",
       " 1009: 'Glutathione S-transferase activity in epithelial ovarian cancer : association with response to chemotherapy and disease outcome',\n",
       " 1010: \"< TO_SEE > Frontal dysfunction blocks the therapeutic effect of THA on attention in Alzheimer 's disease\",\n",
       " 1012: '< TO_SEE > Antiplatelet therapy to prevent stroke : risk of brain hemorrhage and efficacy in atrial fibrillation',\n",
       " 1013: 'Another potential use of troglitazone in noninsulin-dependent diabetes mellitus',\n",
       " 1015: 'Paclitaxel for the treatment of lymphoma',\n",
       " 1017: 'A comparison of rectal diazepam gel and placebo for acute repetitive seizures',\n",
       " 1018: '5-year outcome of surgical resection and watchful waiting for men with moderately symptomatic benign prostatic hyperplasia : a Department of Veterans Affairs cooperative study',\n",
       " 1019: 'Single or double lung transplantation for pulmonary hypertension',\n",
       " 1020: 'Interferon beta treatment for multiple sclerosis',\n",
       " 1021: 'Intravenous immunoglobulin treatment in multiple sclerosis',\n",
       " 1022: 'Perceived contraindications to thrombolytic treatment in acute myocardial infarction',\n",
       " 1024: 'Stereotactic radiosurgery for acoustic neuroma : a Canadian perspective',\n",
       " 1026: 'Hyperbaric oxygen therapy for children with cerebral palsy',\n",
       " 1027: 'Peripheral retinal cryotherapy for postvitrectomy diabetic vitreous hemorrhage in phakic patients',\n",
       " 1028: 'Hyperbaric or normobaric oxygen for acute carbon monoxide poisoning : a randomised controlled clinical trial',\n",
       " 1029: 'Matrix metalloproteinase inhibitors in the treatment of cancer',\n",
       " 1030: 'A randomized , controlled study in adults of the immunogenicity of a novel hepatitis B vaccine containing MF59 adjuvant',\n",
       " 1036: 'The outcome of arthroscopic treatment of temporomandibular joint arthropathy',\n",
       " 1037: 'Neostigmine for acute colonic pseudo-obstruction',\n",
       " 1039: 'Surgical management of severe secondary peritonitis',\n",
       " 1042: 'Hepatic arterial infusion of chemotherapy after resection of hepatic metastases from colorectal cancer',\n",
       " 1044: 'Urgent colonoscopy for the diagnosis and treatment of severe diverticular hemorrhage',\n",
       " 1045: \"Effects of tolcapone , a catechol-O-methyltransferase inhibitor , on motor symptoms and pharmacokinetics of levodopa in patients with Parkinson 's disease .\",\n",
       " 1046: 'Dry powdered formoterol , twice a day versus aerosolized salbutamol , four times a day , in patients with stable asthma',\n",
       " 1047: 'Celecoxib for arthritis',\n",
       " 1048: 'Poliomyelitis prevention : revised recommendations for use of inactivated and live oral poliovirus vaccines',\n",
       " 1049: 'Brimonidine tartrate 0.2 % twice daily vs timolol 0.5 % twice daily : 1-year results in glaucoma patients',\n",
       " 1050: 'Epoetin : a pharmacoeconomic review of its use in chronic renal failure and its effects on quality of life',\n",
       " 1053: 'High-dose chemotherapy with autologous stem-cell support for epithelial ovarian cancer',\n",
       " 1054: \"`` Tandem '' high-dose chemoradiotherapy with autologous stem-cell support in the treatment of newly diagnosed or responsive multiple myeloma\"}"
      ]
     },
     "execution_count": 62,
     "metadata": {},
     "output_type": "execute_result"
    }
   ],
   "source": [
    "numsent_evidence"
   ]
  },
  {
   "cell_type": "code",
   "execution_count": 63,
   "metadata": {
    "colab": {
     "base_uri": "https://localhost:8080/"
    },
    "executionInfo": {
     "elapsed": 33,
     "status": "ok",
     "timestamp": 1674233372054,
     "user": {
      "displayName": "Or Levitas",
      "userId": "03940875326974445177"
     },
     "user_tz": -120
    },
    "id": "J8H8-WzhEbk6",
    "outputId": "e852af6d-da76-469d-95ee-5f65fcd35f0a"
   },
   "outputs": [
    {
     "data": {
      "text/plain": [
       "{'gestational diabetes cases': [],\n",
       " 'preeclampsia': [],\n",
       " 'severe preeclampsia': [],\n",
       " 'asymmetric double hemiplegia': [],\n",
       " 'reversible nonimmune hydrops fetalis': [],\n",
       " 'breast and/or ovarian cancer': [],\n",
       " 'breast cancer': ['hormone replacement therapy',\n",
       "  'undergone subcutaneous mastectomy'],\n",
       " 'ovarian cancer': ['hormone replacement therapy',\n",
       "  'undergone subcutaneous mastectomy'],\n",
       " 'prostate cancer': ['radical prostatectomy and iodine 125 interstitial radiotherapy'],\n",
       " 'mutated prostate cancer': ['radical prostatectomy and iodine 125 interstitial radiotherapy'],\n",
       " 'hereditary prostate cancer': [],\n",
       " 'multiple sclerosis ( ms )': [],\n",
       " 'hereditary retinoblastoma': ['radiotherapy'],\n",
       " 'epilepsy': [],\n",
       " 'unstable angina or non-q-wave myocardial infarction': ['roxithromycin'],\n",
       " 'coronary-artery disease': ['antichlamydial antibiotics'],\n",
       " 'early-stage cervical carcinoma': [],\n",
       " 'advanced disease': [],\n",
       " 'cerebral palsy': ['hyperbaric oxygen therapy'],\n",
       " 'severe pain': [],\n",
       " 'myofascial trigger point pain': [],\n",
       " 'infections': [],\n",
       " 'primary pulmonary hypertension ( pph )': ['fenfluramines'],\n",
       " 'essential hypertension': [],\n",
       " 'osteoporosis among older persons': [],\n",
       " 'foot infections': [],\n",
       " 'cellulitis': ['g-csf therapy', 'intravenous antibiotic treatment'],\n",
       " 'foot infection': [],\n",
       " 'hemorrhagic stroke': [],\n",
       " 'cardiac disease': [],\n",
       " 'rheumatoid arthritis': [],\n",
       " 'stroke victims': [],\n",
       " \"early parkinson 's disease\": ['ropinirole monotherapy'],\n",
       " 'sore throat': ['antibiotics'],\n",
       " 'upper respiratory conditions': [],\n",
       " 'sore throat increase reattendance': [],\n",
       " 'postoperative pain relief': [],\n",
       " 'analgesia when equianalgesic doses': [],\n",
       " 'chronic neutropenia': [],\n",
       " 'female stress urinary incontinence': ['surgical treatment'],\n",
       " 'stress urinary incontinence': ['therapy'],\n",
       " 'corpal gastritis': [],\n",
       " 'preeclampsia ( proteinuric hypertension )': ['intrauterine insemination with donor sperm versus intrauterine insemination'],\n",
       " 'mild preeclampsia': [],\n",
       " 'myocardial amyloidosis': [],\n",
       " 'heart failure': [],\n",
       " 'amyloidosis': [],\n",
       " 'cardiac amyloid heart disease': [],\n",
       " 'retinopathy': [],\n",
       " 'intra-abdominal injury': [],\n",
       " 'tangential gunshot wounds': [],\n",
       " 'intra-abdominal hemorrhage': [],\n",
       " 'severe acquired hyperammonemia': ['organ transplantation and chemotherapy',\n",
       "  'matrix metalloproteinase inhibitors'],\n",
       " 'cancer': ['organ transplantation and chemotherapy',\n",
       "  'matrix metalloproteinase inhibitors'],\n",
       " 'major pulmonary embolism': ['thrombolytic treatment'],\n",
       " 'congestive heart failure': [],\n",
       " 'chronic pulmonary disease': [],\n",
       " 'malignant pleural mesothelioma': ['thoracotomy , radiotherapy , and chemotherapy'],\n",
       " 'additional edema': [],\n",
       " 'dyskinesias': [],\n",
       " 'darier disease': [],\n",
       " 'tumor necrosis factor-alpha': [],\n",
       " 'syndrome of hemorrhagic shock and encephalopathy': [],\n",
       " 'tss': [],\n",
       " 'pulmonary symptoms attributable': ['chemotherapy'],\n",
       " 'non-obstructive azoospermia': ['testicular fine needle aspiration ( tefna )',\n",
       "  'open biopsy and testicular sperm extraction ( tese )'],\n",
       " 'mantle cell lymphoma': [],\n",
       " 'acute lymphoblastic leukaemias': [],\n",
       " 'endometriosis': [],\n",
       " 'hyperlipidemias': [],\n",
       " 'deep vein thrombosis ( dvt )': [],\n",
       " 'hepatocerebral degeneration ( portal systemic encephalopathy )': [],\n",
       " 'mastitis': [],\n",
       " 'cervical carcinoma': [],\n",
       " 'duodenal ulcer': [],\n",
       " 'childhood schizophrenia': [],\n",
       " 'congenital adrenal hyperplasia': [],\n",
       " \"laennec 's cirrhosis\": [],\n",
       " 'renal stones': [],\n",
       " 'stone disease': [],\n",
       " 'congenital anomalies': [],\n",
       " 'ovarian carcinoma': [],\n",
       " 'heart congestive failure': [],\n",
       " 'biliary indication': [],\n",
       " 'piglet influenza': [],\n",
       " 'chronic progressive external ophthalmoplegia': [],\n",
       " 'cystic periventricular leukomalacia': [],\n",
       " 'metastasis of laryngeal carcinomas': [],\n",
       " 'hiv infection': [],\n",
       " 'graft spasm': [],\n",
       " 'renal dysfunction': [],\n",
       " 'colorectal cancer': ['elective surgery',\n",
       "  'docosahexanoic acid ( dha ) -concentrated fish oil'],\n",
       " \"leukaemia and non-hodgkin 's lymphoma\": [],\n",
       " 'childhood acute lymphoblastic leukaemia': [],\n",
       " 'gastrointestinal tumours': ['elective surgery'],\n",
       " 'chlamydia trachomatis': [],\n",
       " 'anemia of end-stage renal disease': [],\n",
       " 'malignant lymphomas': [],\n",
       " 'polymyalgia rheumatica and temporal arteritis': [],\n",
       " 'coronary heart disease': [],\n",
       " 'restenosis after coronary angioplasty': [],\n",
       " \"oral crohn 's disease\": [],\n",
       " 'gestational diabetes': [],\n",
       " 'bronchial asthma': ['non-steroidal anti-inflammatory therapy'],\n",
       " 'disconnection syndrome': [],\n",
       " 'severe accidental hypothermia victims': [],\n",
       " 'hiv/aids': [],\n",
       " 'gunshot wounds': [],\n",
       " 'blastocystis hominis infection': [],\n",
       " 'multiple sclerosis': ['interferon beta treatment',\n",
       "  'intravenous immunoglobulin treatment'],\n",
       " 'does hyperglycemia really cause coronary heart disease': [],\n",
       " 'primary stomach lymphoma': [],\n",
       " 'systemic lupus erythematosus : mite dermatitis': [],\n",
       " 'lung cancer': [],\n",
       " 'metastatic malignant mesothelioma presenting as colonic polyps': [],\n",
       " \"parkinson 's disease\": ['microelectrode-guided posteroventral pallidotomy'],\n",
       " 'murine hepatitis virus strain 3 infection': [],\n",
       " 'synovial sarcoma': [],\n",
       " 'small cell lung cancer': ['prophylactic cranial irradiation prolongs'],\n",
       " 'acute respiratory distress syndrome': [],\n",
       " 'diabetes': [],\n",
       " 'chronic hepatitis': [],\n",
       " 'postraumatic stress disorder': [],\n",
       " 'kaposi sarcoma-associated herpesvirus infection': [],\n",
       " 'diabetes and hyperlipidemias': [],\n",
       " 'cardiac insufficiency': [],\n",
       " 'malignant soft tissue sarcomas': [],\n",
       " 'soft tissue sarcomas': ['radiotherapy'],\n",
       " 'intramedullary metastases of bronchogenic carcinoma': [],\n",
       " 'pseudo-lymphoma': [],\n",
       " 'auditory perception disorders due to bilateral cortical lesions': [],\n",
       " 'cerebral injuries': [],\n",
       " 'coronary endothelial dysfunction': [],\n",
       " 'myocardial perfusion defects': [],\n",
       " 'ectopic pregnancy': [],\n",
       " \"alzheimer 's disease\": [],\n",
       " \"eisenmenger 's syndrome\": ['laparoscopic cholecystectomy'],\n",
       " 'continuous ambulatory peritoneal dialysis': [],\n",
       " 'advanced esophageal cancer': ['adjuvant chemoradiotherapy with cddp'],\n",
       " 'sickle cell anemia': [],\n",
       " 'intractable seizures': [],\n",
       " 'new-onset angina preceding acute myocardial infarction': [],\n",
       " 'congenital bilateral aplasia': [],\n",
       " 'hypercholesterolemia': [],\n",
       " 'insulin-dependent diabetes mellitus': [],\n",
       " 'aids exceptionalism': [],\n",
       " 'myoepithelial carcinoma': [],\n",
       " 'pleomorphic adenoma': [],\n",
       " 'homocystinuria': [],\n",
       " 'malaria': [],\n",
       " 'severe psoriasis': [],\n",
       " 'leukemia': ['trisomy'],\n",
       " 'acute obstructive hydrocephalus complicating bacterial meningitis': [],\n",
       " 'refractory pouchitis': [],\n",
       " 'some malignant tumors such as non-small cell lung cancer': [],\n",
       " 'inoperable advanced malignancies such as colorectal cancer': ['combination with leucovorin or cisplatin'],\n",
       " 'advanced nsclc with manageable toxicities': [],\n",
       " 'recurrent cervical adenocarcinoma': [],\n",
       " 'influenza provides': [],\n",
       " 'influenza control': [],\n",
       " 'abdominal pain': [],\n",
       " 'pain': [],\n",
       " 'pleuritic pain': [],\n",
       " 'fungal infections': [],\n",
       " 'inflammatory skin diseases': ['topical corticosteroids'],\n",
       " 'unresectable stage iii nsclc': ['studies involving sequential chemotherapy'],\n",
       " 'nsclc': ['got surgical treatment',\n",
       "  'radiotherapy',\n",
       "  'got surgical treatment',\n",
       "  'radiotherapy',\n",
       "  'platinum-based chemotherapy'],\n",
       " 'sclc': ['got surgical treatment',\n",
       "  'radiotherapy',\n",
       "  'got surgical treatment',\n",
       "  'radiotherapy',\n",
       "  'platinum-based chemotherapy'],\n",
       " 'locally advanced non-small-cell lung cancer ( la-nsclc )': ['chemotherapy and radiotherapy )'],\n",
       " 'radiation-induced myelopathy': ['heparin and enoxaparin'],\n",
       " 'limited stage small cell lung cancer': ['vip combination chemotherapy and early concurrent thoracic irradiation'],\n",
       " 'malignant pleural effusions from nsclc': ['systemic chemotherapy'],\n",
       " 'small-cell lung cancer': ['chemotherapy', 'combination chemotherapy'],\n",
       " 'intraluminal early-stage cancer': [],\n",
       " 'pathologic stage i non-small cell lung cancer': [],\n",
       " 'supraclavicular node metastases in nsclc': ['chemoradiotherapy'],\n",
       " 'non-small-cell-lung-cancer ( nsclc )': ['cisplatin and radiotherapy'],\n",
       " 'esophageal cancer': [],\n",
       " 'lung cancer )': [],\n",
       " 'osteogenic sarcoma': [],\n",
       " 'lung carcinoma': ['videothoracoscopic lobectomy or partial resection',\n",
       "  'open thoracotomy'],\n",
       " 'stage 0 lung carcinoma': ['curative therapy'],\n",
       " 'melanoma': ['surgical resection'],\n",
       " 'ovarian carcinoma brain metastasis': ['surgical resection'],\n",
       " 'colorectal metastases': ['therapeutic vats metastasectomy'],\n",
       " 'limited-stage small-cell carcinoma': [],\n",
       " 'advanced nsclc': ['assessing combination chemotherapy of cisplatin , ifosfamide and irinotecan with rhg-csf support'],\n",
       " 'metastatic colorectal cancer': ['intravenous oxaliplatin'],\n",
       " 'platinum-pretreated ovarian cancer': ['oxaliplatin'],\n",
       " \"non-hodgkin 's lymphoma , breast cancer\": ['oxaliplatin'],\n",
       " 'mesothelioma and non-small cell lung cancer': ['oxaliplatin'],\n",
       " 'bronchogenic carcinoma': [],\n",
       " 'non-small cell lung cancer': ['combination with paclitaxel and carboplatin'],\n",
       " 'advanced hormone refractory prostate cancer': ['combination with paclitaxel and carboplatin'],\n",
       " 'primary lung cancer': ['resection'],\n",
       " 'adenocarcinoma': ['resection'],\n",
       " 'squamous cell carcinoma': ['resection'],\n",
       " 'stage iii nsclc': ['chemotherapy administered before surgery'],\n",
       " 'primary cancer': ['adjuvant radiation therapy'],\n",
       " 'advanced non -- small-cell lung cancer': ['paclitaxel plus carboplatin ( pc )',\n",
       "  'vinorelbine plus cisplatin ( vc )'],\n",
       " 'extensive disease': ['platinum dose ( cisplatin plus carboplatin ) in combination chemotherapy',\n",
       "  'combination therapy with carboplatin alone'],\n",
       " 'untreated small cell lung cancer ( sclc )': [],\n",
       " 'untreated sclc': [],\n",
       " 'pulmonary hypertension': [],\n",
       " 'neutropenia during cancer': ['chemotherapy'],\n",
       " 'head and neck cancer': ['irradiation therapy', 'intravenous amifostine'],\n",
       " ' xerostomia': ['irradiation therapy', 'intravenous amifostine'],\n",
       " 'carbon monoxide poisoning': [],\n",
       " 'acute myocardial infarction': ['thrombolytic therapy'],\n",
       " 'psoriasis': ['topical application of active vitamin d3 analogue , 1 alpha , 24-dihydroxycholecalciferol'],\n",
       " 'disseminated malignant melanoma': ['leukocyte a recombinant interferon ( rifn-alpha'],\n",
       " 'advanced stage ( tnm iib-ivb ) mycosis fungoides': ['a combination chemotherapy program consisting of bleomycin and methotrexate weekly , doxorubicin every'],\n",
       " 'ventricular tachycardia': ['guiding surgical therapy'],\n",
       " 'cholestasis': [],\n",
       " 'severe acute hepatitis accompanying cholestasis': [],\n",
       " 'autoimmune hepatitis': [],\n",
       " 'spinal adhesive arachnoiditis': ['surgical management'],\n",
       " 'bronchiectasis': ['antibiotics and surgery', 'current surgical therapy'],\n",
       " 'biliary colic symptoms': ['cholecystectomy'],\n",
       " 'biliary dyskinesia': ['cholecystectomy'],\n",
       " 'the common cold': ['pseudoephedrine plus acetaminophen'],\n",
       " 'pulmonary aspergilloma': [],\n",
       " 'viral infections': [],\n",
       " 'asthma': ['fluticasone propionate'],\n",
       " 'pneumocystis carinii pneumonia': [],\n",
       " 'acute nasopharyngitis ( anp )': ['antibiotic treatment'],\n",
       " 'symptoms of a common cold': ['macrolide antibiotics'],\n",
       " 'rhinovirus colds': ['clarithromycin'],\n",
       " 'rhinovirus': ['clarithromycin'],\n",
       " 'acute exacerbation of chronic bronchitis': [],\n",
       " 'pneumonia': [],\n",
       " 'influenza': [],\n",
       " 'influenza a2 ( h2n2 ) virus': [],\n",
       " 'infection': ['a combination of omeprazole , amoxicillin , and clarithromycin'],\n",
       " 'carcinoma': [],\n",
       " 'persistent asthma': ['contemporary asthma management guidelines list inhaled corticosteroids'],\n",
       " 'chronic hepatitis c': ['combination therapy with interferon-alpha ( ifn alpha ) plus ribavirin'],\n",
       " 'hepatitis c viremia': ['combination therapy'],\n",
       " 'severe hypoxemia': ['glucocorticoid pulse therapy'],\n",
       " 'bacterial meningitis': [],\n",
       " 'haemophilus influenzae meningitis': [],\n",
       " 'asthmatic bronchitis': [],\n",
       " 'rsv bronchiolitis': [],\n",
       " 'primary sclerosing cholangitis ( psc )': [],\n",
       " 'chronic renal failure': [],\n",
       " 'ischemic heart disease': [],\n",
       " 'peritoneal tumors': ['subcutaneous injection of irradiated llc-il2'],\n",
       " 'acute occlusion of the middle cerebral artery': ['thrombolytic therapy'],\n",
       " 'benign prostatic hyperplasia': [],\n",
       " 'rheumatic pain herbal': [],\n",
       " 'inflammatory and autoimmune diseases': ['high-dose intravenous immunoglobulin ( hdivig )'],\n",
       " 'large midline incisional hernias': [],\n",
       " 'low-grade nhl': [],\n",
       " 'large-bowel cancer': [],\n",
       " 'phaeochromocytoma': ['adrenalectomy'],\n",
       " 'malignant melanoma': ['interferon alfa-2a'],\n",
       " 'advanced renal cell carcinoma': ['various interferon alpha preparations',\n",
       "  'interferon alfa-n1 , interferon alfa-2a , and interferon alfa-2b'],\n",
       " 'hairy cell leukemia': [],\n",
       " \"low-grade non-hodgkin 's lymphoma\": ['interferon alpha'],\n",
       " \"low-grade non-hodgkin 's lymphomas\": [],\n",
       " 'chronic myelogenous leukemia ( cml )': [],\n",
       " 'partial seizures': ['lamotrigine ( ltg )', 'lamotrigine monotherapy'],\n",
       " 'esophageal achalasia': ['botulinum toxin injection , pneumatic dilation , and laparoscopic myotomy'],\n",
       " 'irritable bowel syndrome': ['chinese herbal medicine'],\n",
       " 'proximal hypospadias': [],\n",
       " 'tumors': ['immunotherapy'],\n",
       " 'sickle cell disease': [],\n",
       " 'haematoma block versus intravenous regional anaesthesia': [],\n",
       " 'stroke': [],\n",
       " 'mitomycin-resistant bladder cancer': ['photodynamic therapy in combination with mitomycin c'],\n",
       " 'b16 melanoma': ['adenosine triphosphate and treatment with buthionine sulfoximine'],\n",
       " 'primary uveal melanoma': ['transpupillary thermotherapy'],\n",
       " 'advanced rectal cancer': [],\n",
       " 'noncirrhotic portal hypertension': [],\n",
       " 'midline incisional hernias': [],\n",
       " 'empyema': [],\n",
       " \"non-hodgkin 's lymphoma\": [],\n",
       " 'acute cerebral ischemia': ['antiplatelet therapy'],\n",
       " 'hyperopia': [],\n",
       " 'renal cell carcinoma': ['interferon treatment'],\n",
       " 'odontogenic infections': [],\n",
       " 'myocardial angiogenesis': ['gene therapy'],\n",
       " 'autoimmune hemolytic anemia': ['heparin'],\n",
       " 'epithelial ovarian cancer': ['high-dose chemotherapy'],\n",
       " 'atrial fibrillation': ['antiplatelet therapy'],\n",
       " 'diabetes mellitus': [],\n",
       " 'lymphoma': [],\n",
       " 'acute repetitive seizures': [],\n",
       " 'moderately symptomatic benign prostatic hyperplasia': ['surgical resection'],\n",
       " 'acoustic neuroma': ['stereotactic radiosurgery'],\n",
       " 'postvitrectomy diabetic vitreous hemorrhage': ['peripheral retinal cryotherapy'],\n",
       " 'acute carbon monoxide poisoning': [],\n",
       " 'hepatitis b': ['vaccine containing mf59'],\n",
       " 'temporomandibular joint arthropathy': ['arthroscopic treatment'],\n",
       " 'acute colonic pseudo-obstruction': [],\n",
       " 'severe secondary peritonitis': ['surgical management'],\n",
       " 'hepatic metastases from colorectal cancer': ['hepatic arterial infusion of chemotherapy after resection'],\n",
       " 'severe diverticular hemorrhage': [],\n",
       " 'stable asthma': [],\n",
       " 'arthritis': [],\n",
       " 'live oral poliovirus vaccines': [],\n",
       " 'glaucoma': [],\n",
       " 'responsive multiple myeloma': []}"
      ]
     },
     "execution_count": 63,
     "metadata": {},
     "output_type": "execute_result"
    }
   ],
   "source": [
    "disease_treatment"
   ]
  },
  {
   "cell_type": "code",
   "execution_count": 64,
   "metadata": {
    "colab": {
     "base_uri": "https://localhost:8080/",
     "height": 988
    },
    "executionInfo": {
     "elapsed": 16,
     "status": "ok",
     "timestamp": 1674233372055,
     "user": {
      "displayName": "Or Levitas",
      "userId": "03940875326974445177"
     },
     "user_tz": -120
    },
    "id": "lW_hrB4ENUZ3",
    "outputId": "95709543-f8ce-45c1-f681-3ef3a2e128b4"
   },
   "outputs": [
    {
     "data": {
      "text/html": [
       "\n",
       "  <div id=\"df-fdefab01-7573-4a21-9253-ba4822e5643d\">\n",
       "    <div class=\"colab-df-container\">\n",
       "      <div>\n",
       "<style scoped>\n",
       "    .dataframe tbody tr th:only-of-type {\n",
       "        vertical-align: middle;\n",
       "    }\n",
       "\n",
       "    .dataframe tbody tr th {\n",
       "        vertical-align: top;\n",
       "    }\n",
       "\n",
       "    .dataframe thead th {\n",
       "        text-align: right;\n",
       "    }\n",
       "</style>\n",
       "<table border=\"1\" class=\"dataframe\">\n",
       "  <thead>\n",
       "    <tr style=\"text-align: right;\">\n",
       "      <th></th>\n",
       "      <th>sentence_number_in_test_set</th>\n",
       "      <th>disease</th>\n",
       "      <th>treatment</th>\n",
       "      <th>evidence</th>\n",
       "    </tr>\n",
       "  </thead>\n",
       "  <tbody>\n",
       "    <tr>\n",
       "      <th>0</th>\n",
       "      <td>29</td>\n",
       "      <td>breast cancer</td>\n",
       "      <td>[hormone replacement therapy, undergone subcut...</td>\n",
       "      <td>PARTICIPANTS : Institutions selected 798 perso...</td>\n",
       "    </tr>\n",
       "    <tr>\n",
       "      <th>1</th>\n",
       "      <td>33</td>\n",
       "      <td>ovarian cancer</td>\n",
       "      <td>[hormone replacement therapy, undergone subcut...</td>\n",
       "      <td>CONTEXT : Approximately 9 % of prostate cancer...</td>\n",
       "    </tr>\n",
       "    <tr>\n",
       "      <th>2</th>\n",
       "      <td>36</td>\n",
       "      <td>prostate cancer</td>\n",
       "      <td>[radical prostatectomy and iodine 125 intersti...</td>\n",
       "      <td>FAMILIES : A total of 74 North American famili...</td>\n",
       "    </tr>\n",
       "    <tr>\n",
       "      <th>3</th>\n",
       "      <td>37</td>\n",
       "      <td>mutated prostate cancer</td>\n",
       "      <td>[radical prostatectomy and iodine 125 intersti...</td>\n",
       "      <td>CONCLUSIONS : Families that provide evidence f...</td>\n",
       "    </tr>\n",
       "    <tr>\n",
       "      <th>4</th>\n",
       "      <td>61</td>\n",
       "      <td>hereditary retinoblastoma</td>\n",
       "      <td>[radiotherapy]</td>\n",
       "      <td>CONCLUSION : Methylphenidate is effective in t...</td>\n",
       "    </tr>\n",
       "    <tr>\n",
       "      <th>...</th>\n",
       "      <td>...</td>\n",
       "      <td>...</td>\n",
       "      <td>...</td>\n",
       "      <td>...</td>\n",
       "    </tr>\n",
       "    <tr>\n",
       "      <th>107</th>\n",
       "      <td>993</td>\n",
       "      <td>postvitrectomy diabetic vitreous hemorrhage</td>\n",
       "      <td>[peripheral retinal cryotherapy]</td>\n",
       "      <td>Transabdominal extensive esophagogastric devas...</td>\n",
       "    </tr>\n",
       "    <tr>\n",
       "      <th>108</th>\n",
       "      <td>995</td>\n",
       "      <td>hepatitis b</td>\n",
       "      <td>[vaccine containing mf59]</td>\n",
       "      <td>Thoracoscopy for empyema in children</td>\n",
       "    </tr>\n",
       "    <tr>\n",
       "      <th>109</th>\n",
       "      <td>996</td>\n",
       "      <td>temporomandibular joint arthropathy</td>\n",
       "      <td>[arthroscopic treatment]</td>\n",
       "      <td>Conventional treatments for non-Hodgkin 's lym...</td>\n",
       "    </tr>\n",
       "    <tr>\n",
       "      <th>110</th>\n",
       "      <td>998</td>\n",
       "      <td>severe secondary peritonitis</td>\n",
       "      <td>[surgical management]</td>\n",
       "      <td>Excimer laser assisted in situ keratomileusis ...</td>\n",
       "    </tr>\n",
       "    <tr>\n",
       "      <th>111</th>\n",
       "      <td>999</td>\n",
       "      <td>hepatic metastases from colorectal cancer</td>\n",
       "      <td>[hepatic arterial infusion of chemotherapy aft...</td>\n",
       "      <td>Interferon treatment of renal cell carcinoma</td>\n",
       "    </tr>\n",
       "  </tbody>\n",
       "</table>\n",
       "<p>112 rows × 4 columns</p>\n",
       "</div>\n",
       "      <button class=\"colab-df-convert\" onclick=\"convertToInteractive('df-fdefab01-7573-4a21-9253-ba4822e5643d')\"\n",
       "              title=\"Convert this dataframe to an interactive table.\"\n",
       "              style=\"display:none;\">\n",
       "        \n",
       "  <svg xmlns=\"http://www.w3.org/2000/svg\" height=\"24px\"viewBox=\"0 0 24 24\"\n",
       "       width=\"24px\">\n",
       "    <path d=\"M0 0h24v24H0V0z\" fill=\"none\"/>\n",
       "    <path d=\"M18.56 5.44l.94 2.06.94-2.06 2.06-.94-2.06-.94-.94-2.06-.94 2.06-2.06.94zm-11 1L8.5 8.5l.94-2.06 2.06-.94-2.06-.94L8.5 2.5l-.94 2.06-2.06.94zm10 10l.94 2.06.94-2.06 2.06-.94-2.06-.94-.94-2.06-.94 2.06-2.06.94z\"/><path d=\"M17.41 7.96l-1.37-1.37c-.4-.4-.92-.59-1.43-.59-.52 0-1.04.2-1.43.59L10.3 9.45l-7.72 7.72c-.78.78-.78 2.05 0 2.83L4 21.41c.39.39.9.59 1.41.59.51 0 1.02-.2 1.41-.59l7.78-7.78 2.81-2.81c.8-.78.8-2.07 0-2.86zM5.41 20L4 18.59l7.72-7.72 1.47 1.35L5.41 20z\"/>\n",
       "  </svg>\n",
       "      </button>\n",
       "      \n",
       "  <style>\n",
       "    .colab-df-container {\n",
       "      display:flex;\n",
       "      flex-wrap:wrap;\n",
       "      gap: 12px;\n",
       "    }\n",
       "\n",
       "    .colab-df-convert {\n",
       "      background-color: #E8F0FE;\n",
       "      border: none;\n",
       "      border-radius: 50%;\n",
       "      cursor: pointer;\n",
       "      display: none;\n",
       "      fill: #1967D2;\n",
       "      height: 32px;\n",
       "      padding: 0 0 0 0;\n",
       "      width: 32px;\n",
       "    }\n",
       "\n",
       "    .colab-df-convert:hover {\n",
       "      background-color: #E2EBFA;\n",
       "      box-shadow: 0px 1px 2px rgba(60, 64, 67, 0.3), 0px 1px 3px 1px rgba(60, 64, 67, 0.15);\n",
       "      fill: #174EA6;\n",
       "    }\n",
       "\n",
       "    [theme=dark] .colab-df-convert {\n",
       "      background-color: #3B4455;\n",
       "      fill: #D2E3FC;\n",
       "    }\n",
       "\n",
       "    [theme=dark] .colab-df-convert:hover {\n",
       "      background-color: #434B5C;\n",
       "      box-shadow: 0px 1px 3px 1px rgba(0, 0, 0, 0.15);\n",
       "      filter: drop-shadow(0px 1px 2px rgba(0, 0, 0, 0.3));\n",
       "      fill: #FFFFFF;\n",
       "    }\n",
       "  </style>\n",
       "\n",
       "      <script>\n",
       "        const buttonEl =\n",
       "          document.querySelector('#df-fdefab01-7573-4a21-9253-ba4822e5643d button.colab-df-convert');\n",
       "        buttonEl.style.display =\n",
       "          google.colab.kernel.accessAllowed ? 'block' : 'none';\n",
       "\n",
       "        async function convertToInteractive(key) {\n",
       "          const element = document.querySelector('#df-fdefab01-7573-4a21-9253-ba4822e5643d');\n",
       "          const dataTable =\n",
       "            await google.colab.kernel.invokeFunction('convertToInteractive',\n",
       "                                                     [key], {});\n",
       "          if (!dataTable) return;\n",
       "\n",
       "          const docLinkHtml = 'Like what you see? Visit the ' +\n",
       "            '<a target=\"_blank\" href=https://colab.research.google.com/notebooks/data_table.ipynb>data table notebook</a>'\n",
       "            + ' to learn more about interactive tables.';\n",
       "          element.innerHTML = '';\n",
       "          dataTable['output_type'] = 'display_data';\n",
       "          await google.colab.output.renderOutput(dataTable, element);\n",
       "          const docLink = document.createElement('div');\n",
       "          docLink.innerHTML = docLinkHtml;\n",
       "          element.appendChild(docLink);\n",
       "        }\n",
       "      </script>\n",
       "    </div>\n",
       "  </div>\n",
       "  "
      ],
      "text/plain": [
       "     sentence_number_in_test_set                                      disease  \\\n",
       "0                             29                                breast cancer   \n",
       "1                             33                               ovarian cancer   \n",
       "2                             36                              prostate cancer   \n",
       "3                             37                      mutated prostate cancer   \n",
       "4                             61                    hereditary retinoblastoma   \n",
       "..                           ...                                          ...   \n",
       "107                          993  postvitrectomy diabetic vitreous hemorrhage   \n",
       "108                          995                                  hepatitis b   \n",
       "109                          996          temporomandibular joint arthropathy   \n",
       "110                          998                 severe secondary peritonitis   \n",
       "111                          999    hepatic metastases from colorectal cancer   \n",
       "\n",
       "                                             treatment  \\\n",
       "0    [hormone replacement therapy, undergone subcut...   \n",
       "1    [hormone replacement therapy, undergone subcut...   \n",
       "2    [radical prostatectomy and iodine 125 intersti...   \n",
       "3    [radical prostatectomy and iodine 125 intersti...   \n",
       "4                                       [radiotherapy]   \n",
       "..                                                 ...   \n",
       "107                   [peripheral retinal cryotherapy]   \n",
       "108                          [vaccine containing mf59]   \n",
       "109                           [arthroscopic treatment]   \n",
       "110                              [surgical management]   \n",
       "111  [hepatic arterial infusion of chemotherapy aft...   \n",
       "\n",
       "                                              evidence  \n",
       "0    PARTICIPANTS : Institutions selected 798 perso...  \n",
       "1    CONTEXT : Approximately 9 % of prostate cancer...  \n",
       "2    FAMILIES : A total of 74 North American famili...  \n",
       "3    CONCLUSIONS : Families that provide evidence f...  \n",
       "4    CONCLUSION : Methylphenidate is effective in t...  \n",
       "..                                                 ...  \n",
       "107  Transabdominal extensive esophagogastric devas...  \n",
       "108               Thoracoscopy for empyema in children  \n",
       "109  Conventional treatments for non-Hodgkin 's lym...  \n",
       "110  Excimer laser assisted in situ keratomileusis ...  \n",
       "111       Interferon treatment of renal cell carcinoma  \n",
       "\n",
       "[112 rows x 4 columns]"
      ]
     },
     "execution_count": 64,
     "metadata": {},
     "output_type": "execute_result"
    }
   ],
   "source": [
    "# Obtaining a cleaned version of our \"disease_treatment\" dictionary\n",
    "\n",
    "cleaned_dict = {\"sentence_number_in_test_set\" : [], \"disease\" : [], \"treatment\" : [], \"evidence\" : []}\n",
    "for sentence_number, disease in zip(numsent_evidence.keys(),disease_treatment.keys()):\n",
    "  if disease_treatment[disease] != []:\n",
    "\n",
    "    cleaned_dict[\"sentence_number_in_test_set\"].append(sentence_number)\n",
    "    cleaned_dict[\"disease\"].append(disease)\n",
    "    cleaned_dict[\"treatment\"].append(disease_treatment[disease])\n",
    "    cleaned_dict[\"evidence\"].append(numsent_evidence[sentence_number])\n",
    "\n",
    "\n",
    "# Import pandas library\n",
    "import pandas as pd\n",
    "\n",
    "  \n",
    "# Create the pandas DataFrame\n",
    "df = pd.DataFrame(cleaned_dict)\n",
    "  \n",
    "# print dataframe.\n",
    "df\n",
    "\n"
   ]
  },
  {
   "cell_type": "code",
   "execution_count": 64,
   "metadata": {
    "executionInfo": {
     "elapsed": 16,
     "status": "ok",
     "timestamp": 1674233372056,
     "user": {
      "displayName": "Or Levitas",
      "userId": "03940875326974445177"
     },
     "user_tz": -120
    },
    "id": "k6vTk8Gy5Pke"
   },
   "outputs": [],
   "source": []
  }
 ],
 "metadata": {
  "accelerator": "GPU",
  "colab": {
   "collapsed_sections": [
    "X3aJ1uUN9itt",
    "r9Hy2tECbd9a",
    "QG6hYY6rNjS8",
    "YrIAz8gqN_Js",
    "5VPFrPZJOJMq",
    "qIneYrqZOUiJ"
   ],
   "provenance": []
  },
  "gpuClass": "standard",
  "kernelspec": {
   "display_name": "Python 3",
   "language": "python",
   "name": "python3"
  },
  "language_info": {
   "codemirror_mode": {
    "name": "ipython",
    "version": 3
   },
   "file_extension": ".py",
   "mimetype": "text/x-python",
   "name": "python",
   "nbconvert_exporter": "python",
   "pygments_lexer": "ipython3",
   "version": "3.8.10"
  }
 },
 "nbformat": 4,
 "nbformat_minor": 1
}
